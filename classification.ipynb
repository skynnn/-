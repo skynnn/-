{
 "cells": [
  {
   "cell_type": "markdown",
   "metadata": {},
   "source": [
    "https://deep-deep-deep.tistory.com/160"
   ]
  },
  {
   "cell_type": "code",
   "execution_count": 1,
   "metadata": {},
   "outputs": [],
   "source": [
    "import pandas as pd\n",
    "import numpy as np\n",
    "import matplotlib.pyplot as plt\n",
    "\n",
    "import warnings \n",
    "warnings.filterwarnings('ignore')\n",
    "pd.options.display.float_format = '{:.5f}'.format\n",
    "\n",
    "# 한글 폰트 문제\n",
    "from matplotlib import font_manager, rc\n",
    "font_path = \"C:/Windows/Fonts/malgun.ttf\"\n",
    "font = font_manager.FontProperties(fname=font_path).get_name()\n",
    "rc('font', family=font)\n",
    "\n",
    "# 모델 관련\n",
    "from sklearn.model_selection import train_test_split\n",
    "from sklearn.model_selection import StratifiedKFold, GridSearchCV\n",
    "from xgboost import XGBClassifier\n",
    "from lightgbm import LGBMClassifier\n",
    "from sklearn.metrics import accuracy_score, f1_score\n",
    "from xgboost import plot_importance\n",
    "from catboost import CatBoostClassifier\n",
    "\n",
    "# 인코딩\n",
    "from category_encoders import BinaryEncoder"
   ]
  },
  {
   "cell_type": "code",
   "execution_count": 2,
   "metadata": {},
   "outputs": [
    {
     "data": {
      "text/html": [
       "<div>\n",
       "<style scoped>\n",
       "    .dataframe tbody tr th:only-of-type {\n",
       "        vertical-align: middle;\n",
       "    }\n",
       "\n",
       "    .dataframe tbody tr th {\n",
       "        vertical-align: top;\n",
       "    }\n",
       "\n",
       "    .dataframe thead th {\n",
       "        text-align: right;\n",
       "    }\n",
       "</style>\n",
       "<table border=\"1\" class=\"dataframe\">\n",
       "  <thead>\n",
       "    <tr style=\"text-align: right;\">\n",
       "      <th></th>\n",
       "      <th>avg_score</th>\n",
       "      <th>num_usecard</th>\n",
       "      <th>monthly_card_spend</th>\n",
       "      <th>monthly_bk_loan</th>\n",
       "      <th>monthly_cd_loan</th>\n",
       "      <th>monthly_installments_loan</th>\n",
       "      <th>monthly_insurance_loan</th>\n",
       "      <th>monthly_sbk_loan</th>\n",
       "      <th>loan_commitment</th>\n",
       "      <th>inst_rep_loanb</th>\n",
       "      <th>...</th>\n",
       "      <th>credit_card_installments_payment</th>\n",
       "      <th>monthly_spend</th>\n",
       "      <th>cluster</th>\n",
       "      <th>city</th>\n",
       "      <th>ages</th>\n",
       "      <th>sex</th>\n",
       "      <th>avg_rat</th>\n",
       "      <th>monthly_loan</th>\n",
       "      <th>credit_card_payment</th>\n",
       "      <th>debit_card_payment</th>\n",
       "    </tr>\n",
       "  </thead>\n",
       "  <tbody>\n",
       "    <tr>\n",
       "      <th>0</th>\n",
       "      <td>740</td>\n",
       "      <td>1.99000</td>\n",
       "      <td>810000</td>\n",
       "      <td>18500000</td>\n",
       "      <td>620000</td>\n",
       "      <td>2110000</td>\n",
       "      <td>680000</td>\n",
       "      <td>1320000</td>\n",
       "      <td>3800000</td>\n",
       "      <td>10520000</td>\n",
       "      <td>...</td>\n",
       "      <td>83000</td>\n",
       "      <td>727000</td>\n",
       "      <td>2</td>\n",
       "      <td>서울</td>\n",
       "      <td>20대</td>\n",
       "      <td>NaN</td>\n",
       "      <td>4</td>\n",
       "      <td>24940000</td>\n",
       "      <td>254000</td>\n",
       "      <td>473000</td>\n",
       "    </tr>\n",
       "    <tr>\n",
       "      <th>1</th>\n",
       "      <td>782</td>\n",
       "      <td>1.75000</td>\n",
       "      <td>790000</td>\n",
       "      <td>24150000</td>\n",
       "      <td>680000</td>\n",
       "      <td>2300000</td>\n",
       "      <td>790000</td>\n",
       "      <td>1160000</td>\n",
       "      <td>5420000</td>\n",
       "      <td>12220000</td>\n",
       "      <td>...</td>\n",
       "      <td>83000</td>\n",
       "      <td>707000</td>\n",
       "      <td>2</td>\n",
       "      <td>서울</td>\n",
       "      <td>20대</td>\n",
       "      <td>NaN</td>\n",
       "      <td>4</td>\n",
       "      <td>30880000</td>\n",
       "      <td>278000</td>\n",
       "      <td>429000</td>\n",
       "    </tr>\n",
       "    <tr>\n",
       "      <th>2</th>\n",
       "      <td>782</td>\n",
       "      <td>1.74000</td>\n",
       "      <td>790000</td>\n",
       "      <td>24240000</td>\n",
       "      <td>680000</td>\n",
       "      <td>2300000</td>\n",
       "      <td>790000</td>\n",
       "      <td>1210000</td>\n",
       "      <td>5350000</td>\n",
       "      <td>12280000</td>\n",
       "      <td>...</td>\n",
       "      <td>78000</td>\n",
       "      <td>712000</td>\n",
       "      <td>2</td>\n",
       "      <td>서울</td>\n",
       "      <td>20대</td>\n",
       "      <td>NaN</td>\n",
       "      <td>4</td>\n",
       "      <td>31000000</td>\n",
       "      <td>267000</td>\n",
       "      <td>445000</td>\n",
       "    </tr>\n",
       "    <tr>\n",
       "      <th>3</th>\n",
       "      <td>782</td>\n",
       "      <td>1.75000</td>\n",
       "      <td>860000</td>\n",
       "      <td>24570000</td>\n",
       "      <td>680000</td>\n",
       "      <td>2300000</td>\n",
       "      <td>790000</td>\n",
       "      <td>1230000</td>\n",
       "      <td>5380000</td>\n",
       "      <td>12320000</td>\n",
       "      <td>...</td>\n",
       "      <td>89000</td>\n",
       "      <td>771000</td>\n",
       "      <td>2</td>\n",
       "      <td>서울</td>\n",
       "      <td>20대</td>\n",
       "      <td>NaN</td>\n",
       "      <td>4</td>\n",
       "      <td>31390000</td>\n",
       "      <td>292000</td>\n",
       "      <td>479000</td>\n",
       "    </tr>\n",
       "    <tr>\n",
       "      <th>4</th>\n",
       "      <td>781</td>\n",
       "      <td>1.75000</td>\n",
       "      <td>820000</td>\n",
       "      <td>24830000</td>\n",
       "      <td>700000</td>\n",
       "      <td>2320000</td>\n",
       "      <td>770000</td>\n",
       "      <td>1250000</td>\n",
       "      <td>5430000</td>\n",
       "      <td>12420000</td>\n",
       "      <td>...</td>\n",
       "      <td>82000</td>\n",
       "      <td>738000</td>\n",
       "      <td>2</td>\n",
       "      <td>서울</td>\n",
       "      <td>20대</td>\n",
       "      <td>NaN</td>\n",
       "      <td>4</td>\n",
       "      <td>31730000</td>\n",
       "      <td>285000</td>\n",
       "      <td>453000</td>\n",
       "    </tr>\n",
       "    <tr>\n",
       "      <th>...</th>\n",
       "      <td>...</td>\n",
       "      <td>...</td>\n",
       "      <td>...</td>\n",
       "      <td>...</td>\n",
       "      <td>...</td>\n",
       "      <td>...</td>\n",
       "      <td>...</td>\n",
       "      <td>...</td>\n",
       "      <td>...</td>\n",
       "      <td>...</td>\n",
       "      <td>...</td>\n",
       "      <td>...</td>\n",
       "      <td>...</td>\n",
       "      <td>...</td>\n",
       "      <td>...</td>\n",
       "      <td>...</td>\n",
       "      <td>...</td>\n",
       "      <td>...</td>\n",
       "      <td>...</td>\n",
       "      <td>...</td>\n",
       "      <td>...</td>\n",
       "    </tr>\n",
       "    <tr>\n",
       "      <th>3019</th>\n",
       "      <td>818</td>\n",
       "      <td>0.18000</td>\n",
       "      <td>200000</td>\n",
       "      <td>58460000</td>\n",
       "      <td>230000</td>\n",
       "      <td>260000</td>\n",
       "      <td>1610000</td>\n",
       "      <td>290000</td>\n",
       "      <td>8600000</td>\n",
       "      <td>18710000</td>\n",
       "      <td>...</td>\n",
       "      <td>43000</td>\n",
       "      <td>157000</td>\n",
       "      <td>0</td>\n",
       "      <td>NaN</td>\n",
       "      <td>80대</td>\n",
       "      <td>여자</td>\n",
       "      <td>3</td>\n",
       "      <td>69610000</td>\n",
       "      <td>82000</td>\n",
       "      <td>75000</td>\n",
       "    </tr>\n",
       "    <tr>\n",
       "      <th>3020</th>\n",
       "      <td>818</td>\n",
       "      <td>0.18000</td>\n",
       "      <td>190000</td>\n",
       "      <td>58330000</td>\n",
       "      <td>230000</td>\n",
       "      <td>270000</td>\n",
       "      <td>1610000</td>\n",
       "      <td>310000</td>\n",
       "      <td>8550000</td>\n",
       "      <td>18750000</td>\n",
       "      <td>...</td>\n",
       "      <td>39000</td>\n",
       "      <td>151000</td>\n",
       "      <td>0</td>\n",
       "      <td>NaN</td>\n",
       "      <td>80대</td>\n",
       "      <td>여자</td>\n",
       "      <td>3</td>\n",
       "      <td>69500000</td>\n",
       "      <td>82000</td>\n",
       "      <td>69000</td>\n",
       "    </tr>\n",
       "    <tr>\n",
       "      <th>3021</th>\n",
       "      <td>818</td>\n",
       "      <td>0.18000</td>\n",
       "      <td>210000</td>\n",
       "      <td>58190000</td>\n",
       "      <td>240000</td>\n",
       "      <td>290000</td>\n",
       "      <td>1610000</td>\n",
       "      <td>430000</td>\n",
       "      <td>8630000</td>\n",
       "      <td>18760000</td>\n",
       "      <td>...</td>\n",
       "      <td>49000</td>\n",
       "      <td>161000</td>\n",
       "      <td>0</td>\n",
       "      <td>NaN</td>\n",
       "      <td>80대</td>\n",
       "      <td>여자</td>\n",
       "      <td>3</td>\n",
       "      <td>69510000</td>\n",
       "      <td>87000</td>\n",
       "      <td>74000</td>\n",
       "    </tr>\n",
       "    <tr>\n",
       "      <th>3022</th>\n",
       "      <td>819</td>\n",
       "      <td>0.18000</td>\n",
       "      <td>200000</td>\n",
       "      <td>58420000</td>\n",
       "      <td>240000</td>\n",
       "      <td>300000</td>\n",
       "      <td>1610000</td>\n",
       "      <td>470000</td>\n",
       "      <td>8570000</td>\n",
       "      <td>18690000</td>\n",
       "      <td>...</td>\n",
       "      <td>44000</td>\n",
       "      <td>156000</td>\n",
       "      <td>0</td>\n",
       "      <td>NaN</td>\n",
       "      <td>80대</td>\n",
       "      <td>여자</td>\n",
       "      <td>3</td>\n",
       "      <td>69750000</td>\n",
       "      <td>80000</td>\n",
       "      <td>76000</td>\n",
       "    </tr>\n",
       "    <tr>\n",
       "      <th>3023</th>\n",
       "      <td>819</td>\n",
       "      <td>0.18000</td>\n",
       "      <td>200000</td>\n",
       "      <td>58170000</td>\n",
       "      <td>250000</td>\n",
       "      <td>300000</td>\n",
       "      <td>1640000</td>\n",
       "      <td>430000</td>\n",
       "      <td>8590000</td>\n",
       "      <td>18670000</td>\n",
       "      <td>...</td>\n",
       "      <td>44000</td>\n",
       "      <td>156000</td>\n",
       "      <td>0</td>\n",
       "      <td>NaN</td>\n",
       "      <td>80대</td>\n",
       "      <td>여자</td>\n",
       "      <td>3</td>\n",
       "      <td>69510000</td>\n",
       "      <td>81000</td>\n",
       "      <td>75000</td>\n",
       "    </tr>\n",
       "  </tbody>\n",
       "</table>\n",
       "<p>3024 rows × 23 columns</p>\n",
       "</div>"
      ],
      "text/plain": [
       "      avg_score  num_usecard  monthly_card_spend  monthly_bk_loan  \\\n",
       "0           740      1.99000              810000         18500000   \n",
       "1           782      1.75000              790000         24150000   \n",
       "2           782      1.74000              790000         24240000   \n",
       "3           782      1.75000              860000         24570000   \n",
       "4           781      1.75000              820000         24830000   \n",
       "...         ...          ...                 ...              ...   \n",
       "3019        818      0.18000              200000         58460000   \n",
       "3020        818      0.18000              190000         58330000   \n",
       "3021        818      0.18000              210000         58190000   \n",
       "3022        819      0.18000              200000         58420000   \n",
       "3023        819      0.18000              200000         58170000   \n",
       "\n",
       "      monthly_cd_loan  monthly_installments_loan  monthly_insurance_loan  \\\n",
       "0              620000                    2110000                  680000   \n",
       "1              680000                    2300000                  790000   \n",
       "2              680000                    2300000                  790000   \n",
       "3              680000                    2300000                  790000   \n",
       "4              700000                    2320000                  770000   \n",
       "...               ...                        ...                     ...   \n",
       "3019           230000                     260000                 1610000   \n",
       "3020           230000                     270000                 1610000   \n",
       "3021           240000                     290000                 1610000   \n",
       "3022           240000                     300000                 1610000   \n",
       "3023           250000                     300000                 1640000   \n",
       "\n",
       "      monthly_sbk_loan  loan_commitment  inst_rep_loanb  ...  \\\n",
       "0              1320000          3800000        10520000  ...   \n",
       "1              1160000          5420000        12220000  ...   \n",
       "2              1210000          5350000        12280000  ...   \n",
       "3              1230000          5380000        12320000  ...   \n",
       "4              1250000          5430000        12420000  ...   \n",
       "...                ...              ...             ...  ...   \n",
       "3019            290000          8600000        18710000  ...   \n",
       "3020            310000          8550000        18750000  ...   \n",
       "3021            430000          8630000        18760000  ...   \n",
       "3022            470000          8570000        18690000  ...   \n",
       "3023            430000          8590000        18670000  ...   \n",
       "\n",
       "      credit_card_installments_payment  monthly_spend  cluster  city  ages  \\\n",
       "0                                83000         727000        2    서울   20대   \n",
       "1                                83000         707000        2    서울   20대   \n",
       "2                                78000         712000        2    서울   20대   \n",
       "3                                89000         771000        2    서울   20대   \n",
       "4                                82000         738000        2    서울   20대   \n",
       "...                                ...            ...      ...   ...   ...   \n",
       "3019                             43000         157000        0   NaN   80대   \n",
       "3020                             39000         151000        0   NaN   80대   \n",
       "3021                             49000         161000        0   NaN   80대   \n",
       "3022                             44000         156000        0   NaN   80대   \n",
       "3023                             44000         156000        0   NaN   80대   \n",
       "\n",
       "      sex avg_rat monthly_loan credit_card_payment  debit_card_payment  \n",
       "0     NaN       4     24940000              254000              473000  \n",
       "1     NaN       4     30880000              278000              429000  \n",
       "2     NaN       4     31000000              267000              445000  \n",
       "3     NaN       4     31390000              292000              479000  \n",
       "4     NaN       4     31730000              285000              453000  \n",
       "...   ...     ...          ...                 ...                 ...  \n",
       "3019   여자       3     69610000               82000               75000  \n",
       "3020   여자       3     69500000               82000               69000  \n",
       "3021   여자       3     69510000               87000               74000  \n",
       "3022   여자       3     69750000               80000               76000  \n",
       "3023   여자       3     69510000               81000               75000  \n",
       "\n",
       "[3024 rows x 23 columns]"
      ]
     },
     "execution_count": 2,
     "metadata": {},
     "output_type": "execute_result"
    }
   ],
   "source": [
    "df = pd.read_csv('./dataset/gmm_clustering.csv', encoding='utf-8')\n",
    "df"
   ]
  },
  {
   "cell_type": "code",
   "execution_count": 3,
   "metadata": {},
   "outputs": [],
   "source": [
    "df_encoding = df[['monthly_spend', 'avg_score', 'cluster', 'city', 'ages']]\n",
    "df_encoding['city'] = df_encoding['city'].fillna('없음')"
   ]
  },
  {
   "cell_type": "code",
   "execution_count": 4,
   "metadata": {},
   "outputs": [
    {
     "data": {
      "text/plain": [
       "array(['서울', '인천', '대전', '대구', '광주', '부산', '울산', '경기', '강원', '충북', '충남',\n",
       "       '전북', '전남', '경북', '경남', '제주', '없음'], dtype=object)"
      ]
     },
     "execution_count": 4,
     "metadata": {},
     "output_type": "execute_result"
    }
   ],
   "source": [
    "df_encoding.city.unique()"
   ]
  },
  {
   "cell_type": "code",
   "execution_count": 5,
   "metadata": {},
   "outputs": [],
   "source": [
    "# 바이너리 인코딩(Binary Encoding) - 도시, 나이\n",
    "enc_city = BinaryEncoder(cols='city')\n",
    "enc_age = BinaryEncoder(cols='ages')\n",
    "df_encoding = enc_city.fit_transform(df_encoding)\n",
    "df_encoding = enc_age.fit_transform(df_encoding)"
   ]
  },
  {
   "cell_type": "code",
   "execution_count": 6,
   "metadata": {},
   "outputs": [],
   "source": [
    "df_encoding.drop(['city_0', 'ages_0'], axis=1, inplace=True)"
   ]
  },
  {
   "cell_type": "code",
   "execution_count": 7,
   "metadata": {},
   "outputs": [
    {
     "data": {
      "text/html": [
       "<div>\n",
       "<style scoped>\n",
       "    .dataframe tbody tr th:only-of-type {\n",
       "        vertical-align: middle;\n",
       "    }\n",
       "\n",
       "    .dataframe tbody tr th {\n",
       "        vertical-align: top;\n",
       "    }\n",
       "\n",
       "    .dataframe thead th {\n",
       "        text-align: right;\n",
       "    }\n",
       "</style>\n",
       "<table border=\"1\" class=\"dataframe\">\n",
       "  <thead>\n",
       "    <tr style=\"text-align: right;\">\n",
       "      <th></th>\n",
       "      <th>monthly_spend</th>\n",
       "      <th>avg_score</th>\n",
       "      <th>cluster</th>\n",
       "      <th>city_1</th>\n",
       "      <th>city_2</th>\n",
       "      <th>city_3</th>\n",
       "      <th>city_4</th>\n",
       "      <th>city_5</th>\n",
       "      <th>ages_1</th>\n",
       "      <th>ages_2</th>\n",
       "      <th>ages_3</th>\n",
       "      <th>city</th>\n",
       "      <th>ages</th>\n",
       "    </tr>\n",
       "  </thead>\n",
       "  <tbody>\n",
       "    <tr>\n",
       "      <th>0</th>\n",
       "      <td>727000</td>\n",
       "      <td>740</td>\n",
       "      <td>2</td>\n",
       "      <td>0</td>\n",
       "      <td>0</td>\n",
       "      <td>0</td>\n",
       "      <td>0</td>\n",
       "      <td>1</td>\n",
       "      <td>0</td>\n",
       "      <td>0</td>\n",
       "      <td>1</td>\n",
       "      <td>서울</td>\n",
       "      <td>20대</td>\n",
       "    </tr>\n",
       "    <tr>\n",
       "      <th>1</th>\n",
       "      <td>707000</td>\n",
       "      <td>782</td>\n",
       "      <td>2</td>\n",
       "      <td>0</td>\n",
       "      <td>0</td>\n",
       "      <td>0</td>\n",
       "      <td>0</td>\n",
       "      <td>1</td>\n",
       "      <td>0</td>\n",
       "      <td>0</td>\n",
       "      <td>1</td>\n",
       "      <td>서울</td>\n",
       "      <td>20대</td>\n",
       "    </tr>\n",
       "    <tr>\n",
       "      <th>2</th>\n",
       "      <td>712000</td>\n",
       "      <td>782</td>\n",
       "      <td>2</td>\n",
       "      <td>0</td>\n",
       "      <td>0</td>\n",
       "      <td>0</td>\n",
       "      <td>0</td>\n",
       "      <td>1</td>\n",
       "      <td>0</td>\n",
       "      <td>0</td>\n",
       "      <td>1</td>\n",
       "      <td>서울</td>\n",
       "      <td>20대</td>\n",
       "    </tr>\n",
       "    <tr>\n",
       "      <th>3</th>\n",
       "      <td>771000</td>\n",
       "      <td>782</td>\n",
       "      <td>2</td>\n",
       "      <td>0</td>\n",
       "      <td>0</td>\n",
       "      <td>0</td>\n",
       "      <td>0</td>\n",
       "      <td>1</td>\n",
       "      <td>0</td>\n",
       "      <td>0</td>\n",
       "      <td>1</td>\n",
       "      <td>서울</td>\n",
       "      <td>20대</td>\n",
       "    </tr>\n",
       "    <tr>\n",
       "      <th>4</th>\n",
       "      <td>738000</td>\n",
       "      <td>781</td>\n",
       "      <td>2</td>\n",
       "      <td>0</td>\n",
       "      <td>0</td>\n",
       "      <td>0</td>\n",
       "      <td>0</td>\n",
       "      <td>1</td>\n",
       "      <td>0</td>\n",
       "      <td>0</td>\n",
       "      <td>1</td>\n",
       "      <td>서울</td>\n",
       "      <td>20대</td>\n",
       "    </tr>\n",
       "  </tbody>\n",
       "</table>\n",
       "</div>"
      ],
      "text/plain": [
       "   monthly_spend  avg_score  cluster  city_1  city_2  city_3  city_4  city_5  \\\n",
       "0         727000        740        2       0       0       0       0       1   \n",
       "1         707000        782        2       0       0       0       0       1   \n",
       "2         712000        782        2       0       0       0       0       1   \n",
       "3         771000        782        2       0       0       0       0       1   \n",
       "4         738000        781        2       0       0       0       0       1   \n",
       "\n",
       "   ages_1  ages_2  ages_3 city ages  \n",
       "0       0       0       1   서울  20대  \n",
       "1       0       0       1   서울  20대  \n",
       "2       0       0       1   서울  20대  \n",
       "3       0       0       1   서울  20대  \n",
       "4       0       0       1   서울  20대  "
      ]
     },
     "execution_count": 7,
     "metadata": {},
     "output_type": "execute_result"
    }
   ],
   "source": [
    "# city, age 붙여넣기\n",
    "df_encoding = pd.concat([df_encoding, df[['city', 'ages']]], axis=1)\n",
    "df_encoding['city'] = df_encoding['city'].fillna('없음')\n",
    "df_encoding.head()"
   ]
  },
  {
   "cell_type": "code",
   "execution_count": 8,
   "metadata": {},
   "outputs": [],
   "source": [
    "# dataframe 컬럼 순서 변경\n",
    "df_encoding = df_encoding[['monthly_spend', 'avg_score', 'city_1', 'city_2',\n",
    "       'city_3', 'city_4', 'city_5', 'ages_1', 'ages_2', 'ages_3',\n",
    "       'city', 'ages', 'cluster']]"
   ]
  },
  {
   "cell_type": "code",
   "execution_count": 9,
   "metadata": {},
   "outputs": [],
   "source": [
    "city_encoding = df_encoding[['city_1', 'city_2', 'city_3', 'city_4', 'city_5', 'city']].drop_duplicates().reset_index(drop=True)\n",
    "ages_encoding = df_encoding[['ages_1', 'ages_2', 'ages_3', 'ages']].drop_duplicates().reset_index(drop=True)"
   ]
  },
  {
   "cell_type": "code",
   "execution_count": 10,
   "metadata": {},
   "outputs": [],
   "source": [
    "city_encoding.to_csv('./dataset/city_encoding.csv', encoding='utf-8', index=False)\n",
    "ages_encoding.to_csv('./dataset/ages_encoding.csv', encoding='utf-8', index=False)"
   ]
  },
  {
   "cell_type": "markdown",
   "metadata": {},
   "source": [
    "#### XGBoost"
   ]
  },
  {
   "cell_type": "code",
   "execution_count": 11,
   "metadata": {},
   "outputs": [
    {
     "data": {
      "text/html": [
       "<div>\n",
       "<style scoped>\n",
       "    .dataframe tbody tr th:only-of-type {\n",
       "        vertical-align: middle;\n",
       "    }\n",
       "\n",
       "    .dataframe tbody tr th {\n",
       "        vertical-align: top;\n",
       "    }\n",
       "\n",
       "    .dataframe thead th {\n",
       "        text-align: right;\n",
       "    }\n",
       "</style>\n",
       "<table border=\"1\" class=\"dataframe\">\n",
       "  <thead>\n",
       "    <tr style=\"text-align: right;\">\n",
       "      <th></th>\n",
       "      <th>monthly_spend</th>\n",
       "      <th>avg_score</th>\n",
       "      <th>city_1</th>\n",
       "      <th>city_2</th>\n",
       "      <th>city_3</th>\n",
       "      <th>city_4</th>\n",
       "      <th>city_5</th>\n",
       "      <th>ages_1</th>\n",
       "      <th>ages_2</th>\n",
       "      <th>ages_3</th>\n",
       "      <th>city</th>\n",
       "      <th>ages</th>\n",
       "      <th>cluster</th>\n",
       "    </tr>\n",
       "  </thead>\n",
       "  <tbody>\n",
       "    <tr>\n",
       "      <th>0</th>\n",
       "      <td>727000</td>\n",
       "      <td>740</td>\n",
       "      <td>0</td>\n",
       "      <td>0</td>\n",
       "      <td>0</td>\n",
       "      <td>0</td>\n",
       "      <td>1</td>\n",
       "      <td>0</td>\n",
       "      <td>0</td>\n",
       "      <td>1</td>\n",
       "      <td>서울</td>\n",
       "      <td>20대</td>\n",
       "      <td>2</td>\n",
       "    </tr>\n",
       "    <tr>\n",
       "      <th>1</th>\n",
       "      <td>707000</td>\n",
       "      <td>782</td>\n",
       "      <td>0</td>\n",
       "      <td>0</td>\n",
       "      <td>0</td>\n",
       "      <td>0</td>\n",
       "      <td>1</td>\n",
       "      <td>0</td>\n",
       "      <td>0</td>\n",
       "      <td>1</td>\n",
       "      <td>서울</td>\n",
       "      <td>20대</td>\n",
       "      <td>2</td>\n",
       "    </tr>\n",
       "    <tr>\n",
       "      <th>2</th>\n",
       "      <td>712000</td>\n",
       "      <td>782</td>\n",
       "      <td>0</td>\n",
       "      <td>0</td>\n",
       "      <td>0</td>\n",
       "      <td>0</td>\n",
       "      <td>1</td>\n",
       "      <td>0</td>\n",
       "      <td>0</td>\n",
       "      <td>1</td>\n",
       "      <td>서울</td>\n",
       "      <td>20대</td>\n",
       "      <td>2</td>\n",
       "    </tr>\n",
       "    <tr>\n",
       "      <th>3</th>\n",
       "      <td>771000</td>\n",
       "      <td>782</td>\n",
       "      <td>0</td>\n",
       "      <td>0</td>\n",
       "      <td>0</td>\n",
       "      <td>0</td>\n",
       "      <td>1</td>\n",
       "      <td>0</td>\n",
       "      <td>0</td>\n",
       "      <td>1</td>\n",
       "      <td>서울</td>\n",
       "      <td>20대</td>\n",
       "      <td>2</td>\n",
       "    </tr>\n",
       "    <tr>\n",
       "      <th>4</th>\n",
       "      <td>738000</td>\n",
       "      <td>781</td>\n",
       "      <td>0</td>\n",
       "      <td>0</td>\n",
       "      <td>0</td>\n",
       "      <td>0</td>\n",
       "      <td>1</td>\n",
       "      <td>0</td>\n",
       "      <td>0</td>\n",
       "      <td>1</td>\n",
       "      <td>서울</td>\n",
       "      <td>20대</td>\n",
       "      <td>2</td>\n",
       "    </tr>\n",
       "  </tbody>\n",
       "</table>\n",
       "</div>"
      ],
      "text/plain": [
       "   monthly_spend  avg_score  city_1  city_2  city_3  city_4  city_5  ages_1  \\\n",
       "0         727000        740       0       0       0       0       1       0   \n",
       "1         707000        782       0       0       0       0       1       0   \n",
       "2         712000        782       0       0       0       0       1       0   \n",
       "3         771000        782       0       0       0       0       1       0   \n",
       "4         738000        781       0       0       0       0       1       0   \n",
       "\n",
       "   ages_2  ages_3 city ages  cluster  \n",
       "0       0       1   서울  20대        2  \n",
       "1       0       1   서울  20대        2  \n",
       "2       0       1   서울  20대        2  \n",
       "3       0       1   서울  20대        2  \n",
       "4       0       1   서울  20대        2  "
      ]
     },
     "execution_count": 11,
     "metadata": {},
     "output_type": "execute_result"
    }
   ],
   "source": [
    "df_xgb = df_encoding.copy()\n",
    "df_xgb.head()"
   ]
  },
  {
   "cell_type": "code",
   "execution_count": 12,
   "metadata": {},
   "outputs": [
    {
     "name": "stdout",
     "output_type": "stream",
     "text": [
      "(2419, 10) (605, 10)\n"
     ]
    }
   ],
   "source": [
    "# 피쳐와 라벨 분류\n",
    "X_features = df_xgb.iloc[:, :-3]\n",
    "y_labels = df_xgb.iloc[:, -1]\n",
    "\n",
    "# train, test 데이터셋 분리\n",
    "X_train, X_test, y_train, y_test = train_test_split(X_features, y_labels, test_size=0.2, random_state=121)\n",
    "print(X_train.shape, X_test.shape)"
   ]
  },
  {
   "cell_type": "code",
   "execution_count": 13,
   "metadata": {},
   "outputs": [],
   "source": [
    "xgb = XGBClassifier()\n",
    "param_grid_xgb={'booster' :['gbtree'],\n",
    "                 'silent':[1],\n",
    "                 'max_depth':[5,6],\n",
    "                 'min_child_weight':[1,3,5],\n",
    "                 'gamma':[0,1],\n",
    "                 'nthread':[4],\n",
    "                 'colsample_bytree':[0.5,0.8],\n",
    "                 'colsample_bylevel':[0.9],\n",
    "                 'n_estimators' : [300, 500],\n",
    "                 'objective':['multi:softmax'],\n",
    "                 'learning_rate' : [0.05, 0.1],\n",
    "                 'random_state':[121],\n",
    "                 'subsample' : [0.7, 1.0],\n",
    "                 'eval_metric':['mlogloss', 'merror']}"
   ]
  },
  {
   "cell_type": "code",
   "execution_count": 14,
   "metadata": {},
   "outputs": [
    {
     "name": "stdout",
     "output_type": "stream",
     "text": [
      "[23:14:45] WARNING: C:/Users/Administrator/workspace/xgboost-win64_release_1.6.0/src/learner.cc:627: \n",
      "Parameters: { \"silent\" } might not be used.\n",
      "\n",
      "  This could be a false alarm, with some parameters getting used by language bindings but\n",
      "  then being mistakenly passed down to XGBoost core, or some parameter actually being used\n",
      "  but getting flagged wrongly here. Please open an issue if you find any such cases.\n",
      "\n",
      "\n"
     ]
    }
   ],
   "source": [
    "kf = StratifiedKFold(n_splits=5, random_state=121, shuffle=True)\n",
    "\n",
    "gcv_xgb = GridSearchCV(xgb, param_grid=param_grid_xgb, cv = kf, scoring='f1_macro', n_jobs=4, refit = True, return_train_score = True)\n",
    "gcv_xgb.fit(X_train, y_train)\n",
    "\n",
    "# 각 파라미터값들에 대한 모델 결과값들이 cv_results_ 객체에 할당됨\n",
    "scores_xgb_df = pd.DataFrame(gcv_xgb.cv_results_)"
   ]
  },
  {
   "cell_type": "code",
   "execution_count": 15,
   "metadata": {},
   "outputs": [
    {
     "name": "stdout",
     "output_type": "stream",
     "text": [
      "최적의 파라미터 : {'booster': 'gbtree', 'colsample_bylevel': 0.9, 'colsample_bytree': 0.5, 'eval_metric': 'mlogloss', 'gamma': 0, 'learning_rate': 0.1, 'max_depth': 5, 'min_child_weight': 1, 'n_estimators': 500, 'nthread': 4, 'objective': 'multi:softmax', 'random_state': 121, 'silent': 1, 'subsample': 1.0}\n",
      "최적의 파라미터로 모델의 정확도 : 0.9916460343338345\n"
     ]
    }
   ],
   "source": [
    "# 최적의 파라미터는 best_params_에 할당되어있음\n",
    "print(f\"최적의 파라미터 : {gcv_xgb.best_params_}\")\n",
    "print(f\"최적의 파라미터로 모델의 정확도 : {gcv_xgb.best_score_}\")"
   ]
  },
  {
   "cell_type": "code",
   "execution_count": 16,
   "metadata": {},
   "outputs": [],
   "source": [
    "# 최적의 파라미터로 학습되어 있는 모델링 할당\n",
    "estimator_xgb = gcv_xgb.best_estimator_"
   ]
  },
  {
   "cell_type": "code",
   "execution_count": 17,
   "metadata": {},
   "outputs": [
    {
     "name": "stdout",
     "output_type": "stream",
     "text": [
      "실제값과 예측값 정확도 : 0.9950413223140496\n",
      "macro 평균 f1 점수 : 0.995\n"
     ]
    }
   ],
   "source": [
    "# 최적의 모델로 예측해보고 실제값이랑 정확도 비교\n",
    "pred_xgb = estimator_xgb.predict(X_test)\n",
    "print(f\"실제값과 예측값 정확도 : {accuracy_score(y_test, pred_xgb)}\")\n",
    "print(\"macro 평균 f1 점수 : {:.3f}\".format(f1_score(y_test,pred_xgb,average = \"macro\")))"
   ]
  },
  {
   "cell_type": "code",
   "execution_count": 18,
   "metadata": {},
   "outputs": [
    {
     "data": {
      "text/html": [
       "<div>\n",
       "<style scoped>\n",
       "    .dataframe tbody tr th:only-of-type {\n",
       "        vertical-align: middle;\n",
       "    }\n",
       "\n",
       "    .dataframe tbody tr th {\n",
       "        vertical-align: top;\n",
       "    }\n",
       "\n",
       "    .dataframe thead th {\n",
       "        text-align: right;\n",
       "    }\n",
       "</style>\n",
       "<table border=\"1\" class=\"dataframe\">\n",
       "  <thead>\n",
       "    <tr style=\"text-align: right;\">\n",
       "      <th></th>\n",
       "      <th>0</th>\n",
       "      <th>1</th>\n",
       "      <th>2</th>\n",
       "      <th>3</th>\n",
       "      <th>4</th>\n",
       "      <th>5</th>\n",
       "      <th>6</th>\n",
       "      <th>7</th>\n",
       "      <th>8</th>\n",
       "      <th>9</th>\n",
       "    </tr>\n",
       "  </thead>\n",
       "  <tbody>\n",
       "    <tr>\n",
       "      <th>0</th>\n",
       "      <td>1375000</td>\n",
       "      <td>804</td>\n",
       "      <td>0</td>\n",
       "      <td>0</td>\n",
       "      <td>0</td>\n",
       "      <td>0</td>\n",
       "      <td>1</td>\n",
       "      <td>0</td>\n",
       "      <td>0</td>\n",
       "      <td>1</td>\n",
       "    </tr>\n",
       "  </tbody>\n",
       "</table>\n",
       "</div>"
      ],
      "text/plain": [
       "         0    1  2  3  4  5  6  7  8  9\n",
       "0  1375000  804  0  0  0  0  1  0  0  1"
      ]
     },
     "execution_count": 18,
     "metadata": {},
     "output_type": "execute_result"
    }
   ],
   "source": [
    "# 나이 -> 20대, monthly_spend, avg_score -> cluster 5 중앙값\n",
    "test = pd.DataFrame([[1375000, 804, 0, 0, 0, 0, 1, 0, 0, 1]] )\n",
    "test"
   ]
  },
  {
   "cell_type": "code",
   "execution_count": 19,
   "metadata": {},
   "outputs": [
    {
     "data": {
      "text/plain": [
       "array([5])"
      ]
     },
     "execution_count": 19,
     "metadata": {},
     "output_type": "execute_result"
    }
   ],
   "source": [
    "pred_test = estimator_xgb.predict(test)\n",
    "pred_test"
   ]
  },
  {
   "cell_type": "code",
   "execution_count": 20,
   "metadata": {},
   "outputs": [
    {
     "data": {
      "text/plain": [
       "<AxesSubplot:title={'center':'Feature importance'}, xlabel='F score', ylabel='Features'>"
      ]
     },
     "execution_count": 20,
     "metadata": {},
     "output_type": "execute_result"
    },
    {
     "data": {
      "image/png": "[encoded data removed]",
      "text/plain": [
       "<Figure size 720x864 with 1 Axes>"
      ]
     },
     "metadata": {
      "needs_background": "light"
     },
     "output_type": "display_data"
    }
   ],
   "source": [
    "fig, ax = plt.subplots(figsize=(10,12))\n",
    "plot_importance(estimator_xgb, ax=ax)"
   ]
  },
  {
   "cell_type": "markdown",
   "metadata": {},
   "source": [
    "---"
   ]
  },
  {
   "cell_type": "markdown",
   "metadata": {},
   "source": [
    "#### LightGBM"
   ]
  },
  {
   "cell_type": "markdown",
   "metadata": {},
   "source": [
    "LightGBM과 XGBoost를 비교했을 때의 장점\n",
    "- 빠른 학습 및 예측 수행 시간\n",
    "- 더 작은 메모리 사용량\n",
    "- 카테코리형 피처의 자동 변환 및 최적 분할\n",
    "\n",
    "그러나, 10,000건 이하의 데이터셋에 대해 과적합 문제 발생하기 쉽다는 단점"
   ]
  },
  {
   "cell_type": "code",
   "execution_count": 21,
   "metadata": {},
   "outputs": [
    {
     "data": {
      "text/html": [
       "<div>\n",
       "<style scoped>\n",
       "    .dataframe tbody tr th:only-of-type {\n",
       "        vertical-align: middle;\n",
       "    }\n",
       "\n",
       "    .dataframe tbody tr th {\n",
       "        vertical-align: top;\n",
       "    }\n",
       "\n",
       "    .dataframe thead th {\n",
       "        text-align: right;\n",
       "    }\n",
       "</style>\n",
       "<table border=\"1\" class=\"dataframe\">\n",
       "  <thead>\n",
       "    <tr style=\"text-align: right;\">\n",
       "      <th></th>\n",
       "      <th>monthly_spend</th>\n",
       "      <th>avg_score</th>\n",
       "      <th>city_1</th>\n",
       "      <th>city_2</th>\n",
       "      <th>city_3</th>\n",
       "      <th>city_4</th>\n",
       "      <th>city_5</th>\n",
       "      <th>ages_1</th>\n",
       "      <th>ages_2</th>\n",
       "      <th>ages_3</th>\n",
       "      <th>city</th>\n",
       "      <th>ages</th>\n",
       "      <th>cluster</th>\n",
       "    </tr>\n",
       "  </thead>\n",
       "  <tbody>\n",
       "    <tr>\n",
       "      <th>0</th>\n",
       "      <td>727000</td>\n",
       "      <td>740</td>\n",
       "      <td>0</td>\n",
       "      <td>0</td>\n",
       "      <td>0</td>\n",
       "      <td>0</td>\n",
       "      <td>1</td>\n",
       "      <td>0</td>\n",
       "      <td>0</td>\n",
       "      <td>1</td>\n",
       "      <td>서울</td>\n",
       "      <td>20대</td>\n",
       "      <td>2</td>\n",
       "    </tr>\n",
       "    <tr>\n",
       "      <th>1</th>\n",
       "      <td>707000</td>\n",
       "      <td>782</td>\n",
       "      <td>0</td>\n",
       "      <td>0</td>\n",
       "      <td>0</td>\n",
       "      <td>0</td>\n",
       "      <td>1</td>\n",
       "      <td>0</td>\n",
       "      <td>0</td>\n",
       "      <td>1</td>\n",
       "      <td>서울</td>\n",
       "      <td>20대</td>\n",
       "      <td>2</td>\n",
       "    </tr>\n",
       "    <tr>\n",
       "      <th>2</th>\n",
       "      <td>712000</td>\n",
       "      <td>782</td>\n",
       "      <td>0</td>\n",
       "      <td>0</td>\n",
       "      <td>0</td>\n",
       "      <td>0</td>\n",
       "      <td>1</td>\n",
       "      <td>0</td>\n",
       "      <td>0</td>\n",
       "      <td>1</td>\n",
       "      <td>서울</td>\n",
       "      <td>20대</td>\n",
       "      <td>2</td>\n",
       "    </tr>\n",
       "    <tr>\n",
       "      <th>3</th>\n",
       "      <td>771000</td>\n",
       "      <td>782</td>\n",
       "      <td>0</td>\n",
       "      <td>0</td>\n",
       "      <td>0</td>\n",
       "      <td>0</td>\n",
       "      <td>1</td>\n",
       "      <td>0</td>\n",
       "      <td>0</td>\n",
       "      <td>1</td>\n",
       "      <td>서울</td>\n",
       "      <td>20대</td>\n",
       "      <td>2</td>\n",
       "    </tr>\n",
       "    <tr>\n",
       "      <th>4</th>\n",
       "      <td>738000</td>\n",
       "      <td>781</td>\n",
       "      <td>0</td>\n",
       "      <td>0</td>\n",
       "      <td>0</td>\n",
       "      <td>0</td>\n",
       "      <td>1</td>\n",
       "      <td>0</td>\n",
       "      <td>0</td>\n",
       "      <td>1</td>\n",
       "      <td>서울</td>\n",
       "      <td>20대</td>\n",
       "      <td>2</td>\n",
       "    </tr>\n",
       "  </tbody>\n",
       "</table>\n",
       "</div>"
      ],
      "text/plain": [
       "   monthly_spend  avg_score  city_1  city_2  city_3  city_4  city_5  ages_1  \\\n",
       "0         727000        740       0       0       0       0       1       0   \n",
       "1         707000        782       0       0       0       0       1       0   \n",
       "2         712000        782       0       0       0       0       1       0   \n",
       "3         771000        782       0       0       0       0       1       0   \n",
       "4         738000        781       0       0       0       0       1       0   \n",
       "\n",
       "   ages_2  ages_3 city ages  cluster  \n",
       "0       0       1   서울  20대        2  \n",
       "1       0       1   서울  20대        2  \n",
       "2       0       1   서울  20대        2  \n",
       "3       0       1   서울  20대        2  \n",
       "4       0       1   서울  20대        2  "
      ]
     },
     "execution_count": 21,
     "metadata": {},
     "output_type": "execute_result"
    }
   ],
   "source": [
    "df_lgbm = df_encoding.copy()\n",
    "df_lgbm.head()"
   ]
  },
  {
   "cell_type": "code",
   "execution_count": 22,
   "metadata": {},
   "outputs": [
    {
     "name": "stdout",
     "output_type": "stream",
     "text": [
      "(2419, 10) (605, 10)\n"
     ]
    }
   ],
   "source": [
    "# 피쳐와 라벨 분류\n",
    "X_features = df_lgbm.iloc[:, :-3]\n",
    "y_labels = df_lgbm.iloc[:, -1]\n",
    "\n",
    "# train, test 데이터셋 분리\n",
    "X_train, X_test, y_train, y_test = train_test_split(X_features, y_labels, test_size=0.2, random_state=121)\n",
    "print(X_train.shape, X_test.shape)"
   ]
  },
  {
   "cell_type": "code",
   "execution_count": 23,
   "metadata": {},
   "outputs": [],
   "source": [
    "lgbm = LGBMClassifier()\n",
    "param_grid_lgbm={'boosting_type' :['gbdt'], # 부스팅 방법 rf, gbdt(디폴트), dart, goos\n",
    "                 'silent':[True],\n",
    "                 'max_depth':[4, 5],\n",
    "                 'min_child_weight':[3,5],\n",
    "                 #'gamma':[0,1],\n",
    "                 'nthread':[4],\n",
    "                 'colsample_bytree':[0.7,0.8],\n",
    "                 #'colsample_bylevel':[0.9],\n",
    "                 'objective':['multiclass'],\n",
    "                 'random_state':[121],\n",
    "                 'learning_rate' : [0.05, 0.1],\n",
    "                 'n_estimators' : [300, 500],\n",
    "                 'subsample' : [0.7, 1.0],\n",
    "                 'metric':['multi_logloss', 'multi_error']}"
   ]
  },
  {
   "cell_type": "code",
   "execution_count": 24,
   "metadata": {},
   "outputs": [
    {
     "name": "stdout",
     "output_type": "stream",
     "text": [
      "[LightGBM] [Warning] num_threads is set with n_jobs=-1, nthread=4 will be ignored. Current value: num_threads=-1\n"
     ]
    }
   ],
   "source": [
    "kf = StratifiedKFold(n_splits=5, random_state=121, shuffle=True)\n",
    "\n",
    "gcv_lgbm = GridSearchCV(lgbm, param_grid=param_grid_lgbm, cv = kf, scoring='f1_macro', n_jobs=4, refit = True, return_train_score = True)\n",
    "gcv_lgbm.fit(X_train, y_train)\n",
    "\n",
    "# 각 파라미터값들에 대한 모델 결과값들이 cv_results_ 객체에 할당됨\n",
    "scores_df_lgbm = pd.DataFrame(gcv_lgbm.cv_results_)"
   ]
  },
  {
   "cell_type": "code",
   "execution_count": 25,
   "metadata": {},
   "outputs": [
    {
     "name": "stdout",
     "output_type": "stream",
     "text": [
      "최적의 파라미터 : {'boosting_type': 'gbdt', 'colsample_bytree': 0.7, 'learning_rate': 0.05, 'max_depth': 5, 'metric': 'multi_logloss', 'min_child_weight': 3, 'n_estimators': 300, 'nthread': 4, 'objective': 'multiclass', 'random_state': 121, 'silent': True, 'subsample': 0.7}\n",
      "최적의 파라미터로 모델의 정확도 : 0.9906480129441059\n"
     ]
    }
   ],
   "source": [
    "# 최적의 파라미터는 best_params_에 할당되어있음\n",
    "print(f\"최적의 파라미터 : {gcv_lgbm.best_params_}\")\n",
    "print(f\"최적의 파라미터로 모델의 정확도 : {gcv_lgbm.best_score_}\")"
   ]
  },
  {
   "cell_type": "code",
   "execution_count": 26,
   "metadata": {},
   "outputs": [],
   "source": [
    "# 최적의 파라미터로 학습되어 있는 모델링 할당\n",
    "estimator_lgbm = gcv_lgbm.best_estimator_"
   ]
  },
  {
   "cell_type": "code",
   "execution_count": 27,
   "metadata": {},
   "outputs": [
    {
     "name": "stdout",
     "output_type": "stream",
     "text": [
      "실제값과 예측값 정확도 : 0.9884297520661157\n",
      "macro 평균 f1 점수 : 0.988\n"
     ]
    }
   ],
   "source": [
    "# 최적의 모델로 예측해보고 실제값이랑 정확도 비교\n",
    "pred_lgbm = estimator_lgbm.predict(X_test)\n",
    "print(f\"실제값과 예측값 정확도 : {accuracy_score(y_test, pred_lgbm)}\")\n",
    "print(\"macro 평균 f1 점수 : {:.3f}\".format(f1_score(y_test,pred_lgbm,average = \"macro\")))"
   ]
  },
  {
   "cell_type": "code",
   "execution_count": 28,
   "metadata": {},
   "outputs": [
    {
     "data": {
      "text/html": [
       "<div>\n",
       "<style scoped>\n",
       "    .dataframe tbody tr th:only-of-type {\n",
       "        vertical-align: middle;\n",
       "    }\n",
       "\n",
       "    .dataframe tbody tr th {\n",
       "        vertical-align: top;\n",
       "    }\n",
       "\n",
       "    .dataframe thead th {\n",
       "        text-align: right;\n",
       "    }\n",
       "</style>\n",
       "<table border=\"1\" class=\"dataframe\">\n",
       "  <thead>\n",
       "    <tr style=\"text-align: right;\">\n",
       "      <th></th>\n",
       "      <th>0</th>\n",
       "      <th>1</th>\n",
       "      <th>2</th>\n",
       "      <th>3</th>\n",
       "      <th>4</th>\n",
       "      <th>5</th>\n",
       "      <th>6</th>\n",
       "      <th>7</th>\n",
       "      <th>8</th>\n",
       "      <th>9</th>\n",
       "    </tr>\n",
       "  </thead>\n",
       "  <tbody>\n",
       "    <tr>\n",
       "      <th>0</th>\n",
       "      <td>1375000</td>\n",
       "      <td>804</td>\n",
       "      <td>0</td>\n",
       "      <td>0</td>\n",
       "      <td>0</td>\n",
       "      <td>0</td>\n",
       "      <td>1</td>\n",
       "      <td>0</td>\n",
       "      <td>0</td>\n",
       "      <td>1</td>\n",
       "    </tr>\n",
       "  </tbody>\n",
       "</table>\n",
       "</div>"
      ],
      "text/plain": [
       "         0    1  2  3  4  5  6  7  8  9\n",
       "0  1375000  804  0  0  0  0  1  0  0  1"
      ]
     },
     "execution_count": 28,
     "metadata": {},
     "output_type": "execute_result"
    }
   ],
   "source": [
    "# 나이 -> 20대, monthly_spend, avg_score -> cluster 5 중앙값\n",
    "test = pd.DataFrame([[1375000, 804, 0, 0, 0, 0, 1, 0, 0, 1]] )\n",
    "test"
   ]
  },
  {
   "cell_type": "code",
   "execution_count": 29,
   "metadata": {},
   "outputs": [
    {
     "data": {
      "text/plain": [
       "array([5], dtype=int64)"
      ]
     },
     "execution_count": 29,
     "metadata": {},
     "output_type": "execute_result"
    }
   ],
   "source": [
    "# 최적의 모델로 예측해보고 실제값이랑 정확도 비교\n",
    "pred_test = estimator_lgbm.predict(test)\n",
    "pred_test"
   ]
  },
  {
   "cell_type": "code",
   "execution_count": 30,
   "metadata": {},
   "outputs": [
    {
     "data": {
      "text/plain": [
       "Text(0.5, 1.0, 'Feature Importance')"
      ]
     },
     "execution_count": 30,
     "metadata": {},
     "output_type": "execute_result"
    },
    {
     "data": {
      "image/png": "[encoded data removed]",
      "text/plain": [
       "<Figure size 864x432 with 1 Axes>"
      ]
     },
     "metadata": {
      "needs_background": "light"
     },
     "output_type": "display_data"
    }
   ],
   "source": [
    "feature_importance = estimator_lgbm.feature_importances_\n",
    "sorted_idx = np.argsort(feature_importance)\n",
    "fig = plt.figure(figsize=(12, 6))\n",
    "plt.barh(range(len(sorted_idx)), feature_importance[sorted_idx], align='center')\n",
    "plt.yticks(range(len(sorted_idx)), np.array(X_test.columns)[sorted_idx])\n",
    "plt.title('Feature Importance')"
   ]
  },
  {
   "cell_type": "markdown",
   "metadata": {},
   "source": [
    "----"
   ]
  },
  {
   "cell_type": "markdown",
   "metadata": {},
   "source": [
    "#### Catboost"
   ]
  },
  {
   "cell_type": "markdown",
   "metadata": {},
   "source": [
    "파라미터들이 최적화가 잘 되어있어서 튜닝에 크게 신경쓰지 않아도 됨"
   ]
  },
  {
   "cell_type": "code",
   "execution_count": 31,
   "metadata": {},
   "outputs": [
    {
     "data": {
      "text/html": [
       "<div>\n",
       "<style scoped>\n",
       "    .dataframe tbody tr th:only-of-type {\n",
       "        vertical-align: middle;\n",
       "    }\n",
       "\n",
       "    .dataframe tbody tr th {\n",
       "        vertical-align: top;\n",
       "    }\n",
       "\n",
       "    .dataframe thead th {\n",
       "        text-align: right;\n",
       "    }\n",
       "</style>\n",
       "<table border=\"1\" class=\"dataframe\">\n",
       "  <thead>\n",
       "    <tr style=\"text-align: right;\">\n",
       "      <th></th>\n",
       "      <th>monthly_spend</th>\n",
       "      <th>avg_score</th>\n",
       "      <th>city</th>\n",
       "      <th>ages</th>\n",
       "      <th>cluster</th>\n",
       "    </tr>\n",
       "  </thead>\n",
       "  <tbody>\n",
       "    <tr>\n",
       "      <th>0</th>\n",
       "      <td>727000</td>\n",
       "      <td>740</td>\n",
       "      <td>서울</td>\n",
       "      <td>20대</td>\n",
       "      <td>2</td>\n",
       "    </tr>\n",
       "    <tr>\n",
       "      <th>1</th>\n",
       "      <td>707000</td>\n",
       "      <td>782</td>\n",
       "      <td>서울</td>\n",
       "      <td>20대</td>\n",
       "      <td>2</td>\n",
       "    </tr>\n",
       "    <tr>\n",
       "      <th>2</th>\n",
       "      <td>712000</td>\n",
       "      <td>782</td>\n",
       "      <td>서울</td>\n",
       "      <td>20대</td>\n",
       "      <td>2</td>\n",
       "    </tr>\n",
       "    <tr>\n",
       "      <th>3</th>\n",
       "      <td>771000</td>\n",
       "      <td>782</td>\n",
       "      <td>서울</td>\n",
       "      <td>20대</td>\n",
       "      <td>2</td>\n",
       "    </tr>\n",
       "    <tr>\n",
       "      <th>4</th>\n",
       "      <td>738000</td>\n",
       "      <td>781</td>\n",
       "      <td>서울</td>\n",
       "      <td>20대</td>\n",
       "      <td>2</td>\n",
       "    </tr>\n",
       "  </tbody>\n",
       "</table>\n",
       "</div>"
      ],
      "text/plain": [
       "   monthly_spend  avg_score city ages  cluster\n",
       "0         727000        740   서울  20대        2\n",
       "1         707000        782   서울  20대        2\n",
       "2         712000        782   서울  20대        2\n",
       "3         771000        782   서울  20대        2\n",
       "4         738000        781   서울  20대        2"
      ]
     },
     "execution_count": 31,
     "metadata": {},
     "output_type": "execute_result"
    }
   ],
   "source": [
    "df_cb = df.copy()\n",
    "df_cb = df_cb[['monthly_spend', 'avg_score', 'city', 'ages', 'cluster']]\n",
    "df_cb.head()"
   ]
  },
  {
   "cell_type": "code",
   "execution_count": 32,
   "metadata": {},
   "outputs": [],
   "source": [
    "df_cb.city.fillna('없음', inplace=True)"
   ]
  },
  {
   "cell_type": "code",
   "execution_count": 33,
   "metadata": {},
   "outputs": [],
   "source": [
    "# 피쳐와 라벨 분류\n",
    "X_features = df_cb.iloc[:, :-1]\n",
    "y_labels = df_cb.iloc[:, -1]\n",
    "\n",
    "# train, test 데이터셋 분리\n",
    "X_train, X_test, y_train, y_test = train_test_split(X_features, y_labels, test_size=0.2, random_state=121)"
   ]
  },
  {
   "cell_type": "code",
   "execution_count": 34,
   "metadata": {},
   "outputs": [],
   "source": [
    "param_grid_cb = {'iterations':[100, 500],\n",
    "          'depth': [4, 5, 6, 7],\n",
    "          'learning_rate':[0.05, 0.1],\n",
    "          'logging_level' : ['Silent'],\n",
    "          'l2_leaf_reg': [5]}\n",
    "\n",
    "cb = CatBoostClassifier(loss_function='MultiClass', random_seed=121)"
   ]
  },
  {
   "cell_type": "code",
   "execution_count": 35,
   "metadata": {},
   "outputs": [],
   "source": [
    "kf = StratifiedKFold(n_splits=5, random_state=121, shuffle=True)\n",
    "\n",
    "gcv_cb = GridSearchCV(cb, param_grid=param_grid_cb, cv = kf, scoring='f1_macro', n_jobs=4, refit = True, return_train_score = True)\n",
    "\n",
    "gcv_cb.fit(X_train, y_train, cat_features=['city', 'ages'])\n",
    "\n",
    "# 각 파라미터값들에 대한 모델 결과값들이 cv_results_ 객체에 할당됨\n",
    "scores_df_cb = pd.DataFrame(gcv_cb.cv_results_)"
   ]
  },
  {
   "cell_type": "code",
   "execution_count": 36,
   "metadata": {},
   "outputs": [
    {
     "name": "stdout",
     "output_type": "stream",
     "text": [
      "최적의 파라미터 : {'depth': 6, 'iterations': 500, 'l2_leaf_reg': 5, 'learning_rate': 0.1, 'logging_level': 'Silent'}\n",
      "최적의 파라미터로 모델의 정확도 : 0.9971856906198194\n"
     ]
    }
   ],
   "source": [
    "# 최적의 파라미터는 best_params_에 할당되어있음\n",
    "print(f\"최적의 파라미터 : {gcv_cb.best_params_}\")\n",
    "print(f\"최적의 파라미터로 모델의 정확도 : {gcv_cb.best_score_}\")"
   ]
  },
  {
   "cell_type": "code",
   "execution_count": 37,
   "metadata": {},
   "outputs": [],
   "source": [
    "# 최적의 파라미터로 학습되어 있는 모델링 할당\n",
    "estimator_cb = gcv_cb.best_estimator_"
   ]
  },
  {
   "cell_type": "code",
   "execution_count": 38,
   "metadata": {},
   "outputs": [
    {
     "name": "stdout",
     "output_type": "stream",
     "text": [
      "실제값과 예측값 정확도 : 0.9950413223140496\n",
      "macro 평균 f1 점수 : 0.995\n"
     ]
    }
   ],
   "source": [
    "# 최적의 모델로 예측해보고 실제값이랑 정확도 비교\n",
    "pred_cb = estimator_cb.predict(X_test)\n",
    "print(f\"실제값과 예측값 정확도 : {accuracy_score(y_test, pred_cb)}\")\n",
    "print(\"macro 평균 f1 점수 : {:.3f}\".format(f1_score(y_test,pred_cb,average = \"macro\")))"
   ]
  },
  {
   "cell_type": "code",
   "execution_count": 39,
   "metadata": {},
   "outputs": [
    {
     "data": {
      "text/plain": [
       "[1375000, 804, '서울', '20대']"
      ]
     },
     "execution_count": 39,
     "metadata": {},
     "output_type": "execute_result"
    }
   ],
   "source": [
    "# 나이 -> 20대, monthly_spend, avg_score -> cluster 5 중앙값\n",
    "test = [1375000, 804, '서울', '20대']\n",
    "test"
   ]
  },
  {
   "cell_type": "code",
   "execution_count": 40,
   "metadata": {},
   "outputs": [
    {
     "data": {
      "text/plain": [
       "array([2], dtype=int64)"
      ]
     },
     "execution_count": 40,
     "metadata": {},
     "output_type": "execute_result"
    }
   ],
   "source": [
    "# 최적의 모델로 예측해보고 실제값이랑 정확도 비교\n",
    "pred_test = estimator_cb.predict(test)\n",
    "pred_test"
   ]
  },
  {
   "cell_type": "code",
   "execution_count": 41,
   "metadata": {},
   "outputs": [
    {
     "data": {
      "text/plain": [
       "Text(0.5, 1.0, 'Feature Importance')"
      ]
     },
     "execution_count": 41,
     "metadata": {},
     "output_type": "execute_result"
    },
    {
     "data": {
      "image/png": "[encoded data removed]",
      "text/plain": [
       "<Figure size 864x432 with 1 Axes>"
      ]
     },
     "metadata": {
      "needs_background": "light"
     },
     "output_type": "display_data"
    }
   ],
   "source": [
    "feature_importance = estimator_cb.feature_importances_\n",
    "sorted_idx = np.argsort(feature_importance)\n",
    "fig = plt.figure(figsize=(12, 6))\n",
    "plt.barh(range(len(sorted_idx)), feature_importance[sorted_idx], align='center')\n",
    "plt.yticks(range(len(sorted_idx)), np.array(X_test.columns)[sorted_idx])\n",
    "plt.title('Feature Importance')"
   ]
  },
  {
   "cell_type": "markdown",
   "metadata": {},
   "source": [
    "XGBoost와 CatBoost가 accuracy, f1 score 모두 0.995 정도로 성능은 비슷\n",
    "\n",
    "나이는 20대지만, 나머지 모두 cluster 5의 모습을 보이는 test 값(특수한 경우)에 대해\n",
    "\n",
    "XGBoost는 cluster 5로, CatBoost는 cluster 2로 분류\n",
    "\n",
    "test가 cluster5로 분류되었으면 좋겠음\n",
    "\n",
    "-> XGBoost를 최종 모델로 선정"
   ]
  },
  {
   "cell_type": "markdown",
   "metadata": {},
   "source": [
    "#### 모델 저장"
   ]
  },
  {
   "cell_type": "code",
   "execution_count": 42,
   "metadata": {},
   "outputs": [],
   "source": [
    "# 모델 저장\n",
    "estimator_xgb.save_model('xgb_model.model')"
   ]
  },
  {
   "cell_type": "code",
   "execution_count": 43,
   "metadata": {},
   "outputs": [],
   "source": [
    "new_xgb_model = XGBClassifier() # 모델 초기화\n",
    "new_xgb_model.load_model('xgb_model.model') # 모델 불러오기"
   ]
  }
 ],
 "metadata": {
  "interpreter": {
   "hash": "cb5285e2cda14a4805400a189e0eabfa02913f397385f5c221a1fc076b50ea98"
  },
  "kernelspec": {
   "display_name": "Python 3.7.13 ('base')",
   "language": "python",
   "name": "python3"
  },
  "language_info": {
   "codemirror_mode": {
    "name": "ipython",
    "version": 3
   },
   "file_extension": ".py",
   "mimetype": "text/x-python",
   "name": "python",
   "nbconvert_exporter": "python",
   "pygments_lexer": "ipython3",
   "version": "3.7.12"
  },
  "orig_nbformat": 4
 },
 "nbformat": 4,
 "nbformat_minor": 2
}
