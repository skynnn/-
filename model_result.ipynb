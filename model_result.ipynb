{
 "cells": [
  {
   "cell_type": "code",
   "execution_count": 16,
   "metadata": {},
   "outputs": [],
   "source": [
    "import pandas as pd\n",
    "import numpy as np\n",
    "import matplotlib.pyplot as plt\n",
    "\n",
    "import warnings \n",
    "warnings.filterwarnings('ignore')\n",
    "pd.options.display.float_format = '{:.5f}'.format\n",
    "\n",
    "# 한글 폰트 문제\n",
    "from matplotlib import font_manager, rc\n",
    "font_path = \"C:/Windows/Fonts/malgun.ttf\"\n",
    "font = font_manager.FontProperties(fname=font_path).get_name()\n",
    "rc('font', family=font)\n",
    "\n",
    "import matplotlib.pyplot as plt\n",
    "import plotly.express as px\n",
    "import plotly.figure_factory as ff\n",
    "from xgboost import XGBClassifier"
   ]
  },
  {
   "cell_type": "markdown",
   "metadata": {},
   "source": [
    "#### DataFrame"
   ]
  },
  {
   "cell_type": "code",
   "execution_count": 17,
   "metadata": {},
   "outputs": [
    {
     "data": {
      "text/html": [
       "<div>\n",
       "<style scoped>\n",
       "    .dataframe tbody tr th:only-of-type {\n",
       "        vertical-align: middle;\n",
       "    }\n",
       "\n",
       "    .dataframe tbody tr th {\n",
       "        vertical-align: top;\n",
       "    }\n",
       "\n",
       "    .dataframe thead th {\n",
       "        text-align: right;\n",
       "    }\n",
       "</style>\n",
       "<table border=\"1\" class=\"dataframe\">\n",
       "  <thead>\n",
       "    <tr style=\"text-align: right;\">\n",
       "      <th></th>\n",
       "      <th>cluster</th>\n",
       "      <th>avg_score</th>\n",
       "      <th>monthly_loan</th>\n",
       "      <th>monthly_bk_loan</th>\n",
       "      <th>monthly_cd_loan</th>\n",
       "      <th>monthly_installments_loan</th>\n",
       "      <th>monthly_insurance_loan</th>\n",
       "      <th>monthly_sbk_loan</th>\n",
       "      <th>credit_loan</th>\n",
       "      <th>mortgage_loan</th>\n",
       "      <th>inst_rep_loanb</th>\n",
       "      <th>ls_rep_loanb</th>\n",
       "    </tr>\n",
       "  </thead>\n",
       "  <tbody>\n",
       "    <tr>\n",
       "      <th>0</th>\n",
       "      <td>2</td>\n",
       "      <td>740</td>\n",
       "      <td>24940000</td>\n",
       "      <td>18500000</td>\n",
       "      <td>620000</td>\n",
       "      <td>2110000</td>\n",
       "      <td>680000</td>\n",
       "      <td>1320000</td>\n",
       "      <td>14920000</td>\n",
       "      <td>35450000</td>\n",
       "      <td>10520000</td>\n",
       "      <td>9750000</td>\n",
       "    </tr>\n",
       "    <tr>\n",
       "      <th>1</th>\n",
       "      <td>2</td>\n",
       "      <td>782</td>\n",
       "      <td>30880000</td>\n",
       "      <td>24150000</td>\n",
       "      <td>680000</td>\n",
       "      <td>2300000</td>\n",
       "      <td>790000</td>\n",
       "      <td>1160000</td>\n",
       "      <td>19070000</td>\n",
       "      <td>42420000</td>\n",
       "      <td>12220000</td>\n",
       "      <td>12240000</td>\n",
       "    </tr>\n",
       "    <tr>\n",
       "      <th>2</th>\n",
       "      <td>2</td>\n",
       "      <td>782</td>\n",
       "      <td>31000000</td>\n",
       "      <td>24240000</td>\n",
       "      <td>680000</td>\n",
       "      <td>2300000</td>\n",
       "      <td>790000</td>\n",
       "      <td>1210000</td>\n",
       "      <td>19190000</td>\n",
       "      <td>42480000</td>\n",
       "      <td>12280000</td>\n",
       "      <td>12370000</td>\n",
       "    </tr>\n",
       "    <tr>\n",
       "      <th>3</th>\n",
       "      <td>2</td>\n",
       "      <td>782</td>\n",
       "      <td>31390000</td>\n",
       "      <td>24570000</td>\n",
       "      <td>680000</td>\n",
       "      <td>2300000</td>\n",
       "      <td>790000</td>\n",
       "      <td>1230000</td>\n",
       "      <td>19360000</td>\n",
       "      <td>42980000</td>\n",
       "      <td>12320000</td>\n",
       "      <td>12700000</td>\n",
       "    </tr>\n",
       "    <tr>\n",
       "      <th>4</th>\n",
       "      <td>2</td>\n",
       "      <td>781</td>\n",
       "      <td>31730000</td>\n",
       "      <td>24830000</td>\n",
       "      <td>700000</td>\n",
       "      <td>2320000</td>\n",
       "      <td>770000</td>\n",
       "      <td>1250000</td>\n",
       "      <td>19580000</td>\n",
       "      <td>43370000</td>\n",
       "      <td>12420000</td>\n",
       "      <td>12870000</td>\n",
       "    </tr>\n",
       "  </tbody>\n",
       "</table>\n",
       "</div>"
      ],
      "text/plain": [
       "   cluster  avg_score  monthly_loan  monthly_bk_loan  monthly_cd_loan  \\\n",
       "0        2        740      24940000         18500000           620000   \n",
       "1        2        782      30880000         24150000           680000   \n",
       "2        2        782      31000000         24240000           680000   \n",
       "3        2        782      31390000         24570000           680000   \n",
       "4        2        781      31730000         24830000           700000   \n",
       "\n",
       "   monthly_installments_loan  monthly_insurance_loan  monthly_sbk_loan  \\\n",
       "0                    2110000                  680000           1320000   \n",
       "1                    2300000                  790000           1160000   \n",
       "2                    2300000                  790000           1210000   \n",
       "3                    2300000                  790000           1230000   \n",
       "4                    2320000                  770000           1250000   \n",
       "\n",
       "   credit_loan  mortgage_loan  inst_rep_loanb  ls_rep_loanb  \n",
       "0     14920000       35450000        10520000       9750000  \n",
       "1     19070000       42420000        12220000      12240000  \n",
       "2     19190000       42480000        12280000      12370000  \n",
       "3     19360000       42980000        12320000      12700000  \n",
       "4     19580000       43370000        12420000      12870000  "
      ]
     },
     "execution_count": 17,
     "metadata": {},
     "output_type": "execute_result"
    }
   ],
   "source": [
    "df = pd.read_csv('./dataset/gmm_clustering.csv', encoding='utf-8')\n",
    "df = df[['cluster', 'avg_score', 'monthly_loan', 'monthly_bk_loan', 'monthly_cd_loan', 'monthly_installments_loan', 'monthly_insurance_loan', 'monthly_sbk_loan', 'credit_loan', 'mortgage_loan', 'inst_rep_loanb', 'ls_rep_loanb']]\n",
    "df.head()"
   ]
  },
  {
   "cell_type": "code",
   "execution_count": 18,
   "metadata": {},
   "outputs": [
    {
     "data": {
      "text/html": [
       "<div>\n",
       "<style scoped>\n",
       "    .dataframe tbody tr th:only-of-type {\n",
       "        vertical-align: middle;\n",
       "    }\n",
       "\n",
       "    .dataframe tbody tr th {\n",
       "        vertical-align: top;\n",
       "    }\n",
       "\n",
       "    .dataframe thead th {\n",
       "        text-align: right;\n",
       "    }\n",
       "</style>\n",
       "<table border=\"1\" class=\"dataframe\">\n",
       "  <thead>\n",
       "    <tr style=\"text-align: right;\">\n",
       "      <th></th>\n",
       "      <th>total_loan</th>\n",
       "      <th>은행</th>\n",
       "      <th>카드</th>\n",
       "      <th>캐피탈</th>\n",
       "      <th>보험</th>\n",
       "      <th>저축은행</th>\n",
       "      <th>신용</th>\n",
       "      <th>담보</th>\n",
       "    </tr>\n",
       "  </thead>\n",
       "  <tbody>\n",
       "    <tr>\n",
       "      <th>0</th>\n",
       "      <td>175156277.53400</td>\n",
       "      <td>34.76000</td>\n",
       "      <td>0.17000</td>\n",
       "      <td>0.35000</td>\n",
       "      <td>0.89000</td>\n",
       "      <td>0.13000</td>\n",
       "      <td>9.37000</td>\n",
       "      <td>54.34000</td>\n",
       "    </tr>\n",
       "    <tr>\n",
       "      <th>1</th>\n",
       "      <td>163625244.12300</td>\n",
       "      <td>27.71000</td>\n",
       "      <td>0.81000</td>\n",
       "      <td>2.90000</td>\n",
       "      <td>1.72000</td>\n",
       "      <td>0.71000</td>\n",
       "      <td>16.86000</td>\n",
       "      <td>49.29000</td>\n",
       "    </tr>\n",
       "    <tr>\n",
       "      <th>2</th>\n",
       "      <td>80698379.62900</td>\n",
       "      <td>23.13000</td>\n",
       "      <td>0.87000</td>\n",
       "      <td>4.74000</td>\n",
       "      <td>1.10000</td>\n",
       "      <td>2.00000</td>\n",
       "      <td>20.27000</td>\n",
       "      <td>47.88000</td>\n",
       "    </tr>\n",
       "    <tr>\n",
       "      <th>3</th>\n",
       "      <td>201372848.66600</td>\n",
       "      <td>29.26000</td>\n",
       "      <td>0.56000</td>\n",
       "      <td>1.96000</td>\n",
       "      <td>1.13000</td>\n",
       "      <td>0.34000</td>\n",
       "      <td>14.66000</td>\n",
       "      <td>52.10000</td>\n",
       "    </tr>\n",
       "    <tr>\n",
       "      <th>4</th>\n",
       "      <td>117375599.99900</td>\n",
       "      <td>32.87000</td>\n",
       "      <td>0.12000</td>\n",
       "      <td>0.42000</td>\n",
       "      <td>0.39000</td>\n",
       "      <td>0.09000</td>\n",
       "      <td>11.27000</td>\n",
       "      <td>54.83000</td>\n",
       "    </tr>\n",
       "    <tr>\n",
       "      <th>5</th>\n",
       "      <td>214460270.26900</td>\n",
       "      <td>30.01000</td>\n",
       "      <td>0.72000</td>\n",
       "      <td>1.84000</td>\n",
       "      <td>2.00000</td>\n",
       "      <td>0.46000</td>\n",
       "      <td>13.45000</td>\n",
       "      <td>51.53000</td>\n",
       "    </tr>\n",
       "    <tr>\n",
       "      <th>6</th>\n",
       "      <td>190027081.54600</td>\n",
       "      <td>31.19000</td>\n",
       "      <td>0.44000</td>\n",
       "      <td>1.14000</td>\n",
       "      <td>0.97000</td>\n",
       "      <td>0.18000</td>\n",
       "      <td>10.95000</td>\n",
       "      <td>55.13000</td>\n",
       "    </tr>\n",
       "  </tbody>\n",
       "</table>\n",
       "</div>"
      ],
      "text/plain": [
       "       total_loan       은행      카드     캐피탈      보험    저축은행       신용       담보\n",
       "0 175156277.53400 34.76000 0.17000 0.35000 0.89000 0.13000  9.37000 54.34000\n",
       "1 163625244.12300 27.71000 0.81000 2.90000 1.72000 0.71000 16.86000 49.29000\n",
       "2  80698379.62900 23.13000 0.87000 4.74000 1.10000 2.00000 20.27000 47.88000\n",
       "3 201372848.66600 29.26000 0.56000 1.96000 1.13000 0.34000 14.66000 52.10000\n",
       "4 117375599.99900 32.87000 0.12000 0.42000 0.39000 0.09000 11.27000 54.83000\n",
       "5 214460270.26900 30.01000 0.72000 1.84000 2.00000 0.46000 13.45000 51.53000\n",
       "6 190027081.54600 31.19000 0.44000 1.14000 0.97000 0.18000 10.95000 55.13000"
      ]
     },
     "execution_count": 18,
     "metadata": {},
     "output_type": "execute_result"
    }
   ],
   "source": [
    "# 대출 상품 별 금액 비중\n",
    "list = []\n",
    "for i in range(7):\n",
    "    tmp = []\n",
    "    dataframe = df[df['cluster']==i]\n",
    "    dataframe.drop(['cluster', 'avg_score', 'monthly_loan', 'inst_rep_loanb', 'ls_rep_loanb'], axis=1, inplace=True)\n",
    "    total = sum(round(dataframe.mean(), 3))\n",
    "    tmp.append(total)\n",
    "    for col in dataframe.columns:\n",
    "        ratio = round((dataframe[col].mean()/total)*100, 2)\n",
    "        tmp.append(ratio)\n",
    "    list.append(tmp)\n",
    "loan = pd.DataFrame(list, columns=['total_loan', '은행', '카드', '캐피탈', '보험', '저축은행', '신용', '담보'])\n",
    "loan"
   ]
  },
  {
   "cell_type": "code",
   "execution_count": 19,
   "metadata": {},
   "outputs": [
    {
     "data": {
      "text/html": [
       "<div>\n",
       "<style scoped>\n",
       "    .dataframe tbody tr th:only-of-type {\n",
       "        vertical-align: middle;\n",
       "    }\n",
       "\n",
       "    .dataframe tbody tr th {\n",
       "        vertical-align: top;\n",
       "    }\n",
       "\n",
       "    .dataframe thead th {\n",
       "        text-align: right;\n",
       "    }\n",
       "</style>\n",
       "<table border=\"1\" class=\"dataframe\">\n",
       "  <thead>\n",
       "    <tr style=\"text-align: right;\">\n",
       "      <th></th>\n",
       "      <th>name</th>\n",
       "      <th>explain</th>\n",
       "      <th>total_loan</th>\n",
       "      <th>은행</th>\n",
       "      <th>카드</th>\n",
       "      <th>캐피탈</th>\n",
       "      <th>보험</th>\n",
       "      <th>저축은행</th>\n",
       "      <th>신용</th>\n",
       "      <th>담보</th>\n",
       "    </tr>\n",
       "  </thead>\n",
       "  <tbody>\n",
       "    <tr>\n",
       "      <th>0</th>\n",
       "      <td>벼는 익을수록 고개를 숙인다</td>\n",
       "      <td>높은 신용점수와 대출순위에도 불구하고 적당한 대출에 적은 소비</td>\n",
       "      <td>175156277.53400</td>\n",
       "      <td>34.76000</td>\n",
       "      <td>0.17000</td>\n",
       "      <td>0.35000</td>\n",
       "      <td>0.89000</td>\n",
       "      <td>0.13000</td>\n",
       "      <td>9.37000</td>\n",
       "      <td>54.34000</td>\n",
       "    </tr>\n",
       "    <tr>\n",
       "      <th>1</th>\n",
       "      <td>영끌 소비왕</td>\n",
       "      <td>소비처가 많아 대출이 필요함에도 낮은 신용점수로 인해 대출이 어려운 3040대</td>\n",
       "      <td>163625244.12300</td>\n",
       "      <td>27.71000</td>\n",
       "      <td>0.81000</td>\n",
       "      <td>2.90000</td>\n",
       "      <td>1.72000</td>\n",
       "      <td>0.71000</td>\n",
       "      <td>16.86000</td>\n",
       "      <td>49.29000</td>\n",
       "    </tr>\n",
       "    <tr>\n",
       "      <th>2</th>\n",
       "      <td>아프니까 청춘이다</td>\n",
       "      <td>사회 진출 전, 초년생이라는 특성, 저신용으로 인해 대출이 어려운 20대</td>\n",
       "      <td>80698379.62900</td>\n",
       "      <td>23.13000</td>\n",
       "      <td>0.87000</td>\n",
       "      <td>4.74000</td>\n",
       "      <td>1.10000</td>\n",
       "      <td>2.00000</td>\n",
       "      <td>20.27000</td>\n",
       "      <td>47.88000</td>\n",
       "    </tr>\n",
       "    <tr>\n",
       "      <th>3</th>\n",
       "      <td>다들 그렇게 살아간다</td>\n",
       "      <td>신용도가 중위값에 위치하며 대출이 활발한 그룹 \\n다들 그렇게 살아가는거지..</td>\n",
       "      <td>201372848.66600</td>\n",
       "      <td>29.26000</td>\n",
       "      <td>0.56000</td>\n",
       "      <td>1.96000</td>\n",
       "      <td>1.13000</td>\n",
       "      <td>0.34000</td>\n",
       "      <td>14.66000</td>\n",
       "      <td>52.10000</td>\n",
       "    </tr>\n",
       "    <tr>\n",
       "      <th>4</th>\n",
       "      <td>근검절약</td>\n",
       "      <td>대출도 적고 소비도 적은 고령 그룹\\n근검절약!</td>\n",
       "      <td>117375599.99900</td>\n",
       "      <td>32.87000</td>\n",
       "      <td>0.12000</td>\n",
       "      <td>0.42000</td>\n",
       "      <td>0.39000</td>\n",
       "      <td>0.09000</td>\n",
       "      <td>11.27000</td>\n",
       "      <td>54.83000</td>\n",
       "    </tr>\n",
       "    <tr>\n",
       "      <th>5</th>\n",
       "      <td>밑빠진 독에 물 붓기</td>\n",
       "      <td>대출 받아 써도 써도 모자른 3040 그리고 50대.. 화이팅</td>\n",
       "      <td>214460270.26900</td>\n",
       "      <td>30.01000</td>\n",
       "      <td>0.72000</td>\n",
       "      <td>1.84000</td>\n",
       "      <td>2.00000</td>\n",
       "      <td>0.46000</td>\n",
       "      <td>13.45000</td>\n",
       "      <td>51.53000</td>\n",
       "    </tr>\n",
       "    <tr>\n",
       "      <th>6</th>\n",
       "      <td>인생은 지금부터!</td>\n",
       "      <td>소비와 대출이 중위, 고신용으로 안정적 신용관리 기대</td>\n",
       "      <td>190027081.54600</td>\n",
       "      <td>31.19000</td>\n",
       "      <td>0.44000</td>\n",
       "      <td>1.14000</td>\n",
       "      <td>0.97000</td>\n",
       "      <td>0.18000</td>\n",
       "      <td>10.95000</td>\n",
       "      <td>55.13000</td>\n",
       "    </tr>\n",
       "  </tbody>\n",
       "</table>\n",
       "</div>"
      ],
      "text/plain": [
       "              name                                      explain  \\\n",
       "0  벼는 익을수록 고개를 숙인다           높은 신용점수와 대출순위에도 불구하고 적당한 대출에 적은 소비   \n",
       "1           영끌 소비왕  소비처가 많아 대출이 필요함에도 낮은 신용점수로 인해 대출이 어려운 3040대   \n",
       "2        아프니까 청춘이다     사회 진출 전, 초년생이라는 특성, 저신용으로 인해 대출이 어려운 20대   \n",
       "3      다들 그렇게 살아간다  신용도가 중위값에 위치하며 대출이 활발한 그룹 \\n다들 그렇게 살아가는거지..   \n",
       "4             근검절약                   대출도 적고 소비도 적은 고령 그룹\\n근검절약!   \n",
       "5      밑빠진 독에 물 붓기           대출 받아 써도 써도 모자른 3040 그리고 50대.. 화이팅   \n",
       "6        인생은 지금부터!                소비와 대출이 중위, 고신용으로 안정적 신용관리 기대   \n",
       "\n",
       "       total_loan       은행      카드     캐피탈      보험    저축은행       신용       담보  \n",
       "0 175156277.53400 34.76000 0.17000 0.35000 0.89000 0.13000  9.37000 54.34000  \n",
       "1 163625244.12300 27.71000 0.81000 2.90000 1.72000 0.71000 16.86000 49.29000  \n",
       "2  80698379.62900 23.13000 0.87000 4.74000 1.10000 2.00000 20.27000 47.88000  \n",
       "3 201372848.66600 29.26000 0.56000 1.96000 1.13000 0.34000 14.66000 52.10000  \n",
       "4 117375599.99900 32.87000 0.12000 0.42000 0.39000 0.09000 11.27000 54.83000  \n",
       "5 214460270.26900 30.01000 0.72000 1.84000 2.00000 0.46000 13.45000 51.53000  \n",
       "6 190027081.54600 31.19000 0.44000 1.14000 0.97000 0.18000 10.95000 55.13000  "
      ]
     },
     "execution_count": 19,
     "metadata": {},
     "output_type": "execute_result"
    }
   ],
   "source": [
    "cluster_feature = pd.DataFrame([[0, '벼는 익을수록 고개를 숙인다', '높은 신용점수와 대출순위에도 불구하고 적당한 대출에 적은 소비'], \n",
    "                                [1, '영끌 소비왕', '소비처가 많아 대출이 필요함에도 낮은 신용점수로 인해 대출이 어려운 3040대'], \n",
    "                                [2, '아프니까 청춘이다', '사회 진출 전, 초년생이라는 특성, 저신용으로 인해 대출이 어려운 20대'], \n",
    "                                [3, '다들 그렇게 살아간다', '신용도가 중위값에 위치하며 대출이 활발한 그룹 \\n다들 그렇게 살아가는거지..'], \n",
    "                                [4, '근검절약', '대출도 적고 소비도 적은 고령 그룹\\n근검절약!'], \n",
    "                                [5, '밑빠진 독에 물 붓기', '대출 받아 써도 써도 모자른 3040 그리고 50대.. 화이팅'], \n",
    "                                [6, '인생은 지금부터!', '소비와 대출이 중위, 고신용으로 안정적 신용관리 기대']], \n",
    "                                columns=['cluster', 'name', 'explain'])\n",
    "cluster_feature.set_index('cluster', inplace=True)\n",
    "cluster_feature = pd.concat([cluster_feature, loan], axis=1)\n",
    "cluster_feature\n"
   ]
  },
  {
   "cell_type": "code",
   "execution_count": 20,
   "metadata": {},
   "outputs": [],
   "source": [
    "#df.to_csv('./dataset/output_cluster_df.csv', encoding='utf-8', index=False)\n",
    "#cluster_feature.to_csv('./dataset/output_cluster_feature.csv', encoding='utf-8', index=False)"
   ]
  },
  {
   "cell_type": "markdown",
   "metadata": {},
   "source": [
    "#### Input & Classification"
   ]
  },
  {
   "cell_type": "markdown",
   "metadata": {},
   "source": [
    "1. 한달 카드 소비액(체크 + 일시불)\n",
    "2. 신용점수\n",
    "3. 도시(인코딩 필요)\n",
    "4. 연령(인코딩 필요)"
   ]
  },
  {
   "cell_type": "code",
   "execution_count": 21,
   "metadata": {},
   "outputs": [],
   "source": [
    "def my_info():\n",
    "    from xgboost import XGBClassifier\n",
    "    import numpy as np\n",
    "    import pandas as pd\n",
    "    \n",
    "    city_encoding = pd.read_csv('./dataset/city_encoding.csv', encoding='utf-8')\n",
    "    ages_encoding = pd.read_csv('./dataset/ages_encoding.csv', encoding='utf-8')\n",
    "\n",
    "    xgb_model = XGBClassifier()\n",
    "    xgb_model.load_model('xgb_model.model')\n",
    "\n",
    "    card = int(input('한달 카드 소비 금액 :'))\n",
    "    score = int(input('신용 점수 :'))\n",
    "    my_city = input('거주 지역 :')\n",
    "    my_age = input('나이 :')\n",
    "\n",
    "    my_values = []\n",
    "    my_values.append(card)\n",
    "    my_values.append(score)\n",
    "    my_values.extend(city_encoding[city_encoding['city']==my_city].values.reshape(-1)[:-1])\n",
    "    my_values.extend(ages_encoding[ages_encoding['ages'].str.startswith(my_age[0])].values.reshape(-1)[:-1])\n",
    "\n",
    "    pred = xgb_model.predict([my_values])\n",
    "    pred_cluster = pred[0]\n",
    "\n",
    "    return pred_cluster, score\n"
   ]
  },
  {
   "cell_type": "code",
   "execution_count": 22,
   "metadata": {},
   "outputs": [],
   "source": [
    "#cluster, score = my_info()"
   ]
  },
  {
   "cell_type": "markdown",
   "metadata": {},
   "source": [
    "#### Output Class"
   ]
  },
  {
   "cell_type": "markdown",
   "metadata": {},
   "source": [
    "- 클러스터별 특징\n",
    "- 자기가 속해 있는 클러스터의 중위값 금액(이상치가 좀 있었기 때문에 이상치의 영향을 덜 받기 위해)- 전체 대출상품\n",
    "- 비슷한 신용점수를 가진 사람들이 총대출금액을 얼마나 받았는지-위아래 구간의 평균값을 보여주기 +,- 3점\n",
    "- 대출상품 별 금액비중 순위 (각 클러스터 간 평균대출금액의 합)\n",
    "- 전체 대출 일시/분할 상환 비중 (inst_rep_loanb(분할상환) | ls_rep_loanb(일시상환)) 의 평균값\n",
    "- 자신이 그룹 내 신용점수가 상위 몇 프로(분포로)"
   ]
  },
  {
   "cell_type": "code",
   "execution_count": 23,
   "metadata": {},
   "outputs": [],
   "source": [
    "class output:\n",
    "    import pandas as pd\n",
    "    import plotly.express as px\n",
    "    import plotly.figure_factory as ff\n",
    "\n",
    "    def __init__(self, cluster_num, credit_score):\n",
    "        df = pd.read_csv('./dataset/output_cluster_df.csv', encoding='utf-8')\n",
    "        \n",
    "        self.cluster_feature = pd.read_csv('./dataset/output_cluster_feature.csv', encoding='utf-8')\n",
    "        self.my_cluster = cluster_num\n",
    "        self.my_score = credit_score\n",
    "        self.dataframe = df[df['cluster']==self.my_cluster]\n",
    "    \n",
    "    # 클러스터 이름, 특징\n",
    "    def feature(self):\n",
    "        print(self.cluster_feature.iloc[self.my_cluster]['name'])\n",
    "        print(self.cluster_feature.iloc[self.my_cluster]['explain'])\n",
    "\n",
    "    # 클러스터 대출 관련 변수 중위값\n",
    "    def loan_median(self):\n",
    "        return self.dataframe[['monthly_loan', 'monthly_bk_loan', 'monthly_cd_loan', 'monthly_installments_loan', 'monthly_insurance_loan', 'monthly_sbk_loan', 'credit_loan', 'mortgage_loan']].median()\n",
    "\n",
    "    # 자신과 비슷한 신용 점수를 가진 사람들의 총 대출 금액 평균\n",
    "    def total_loan(self):\n",
    "        avg = self.dataframe[(self.my_score-3 <= self.dataframe['avg_score']) & (self.dataframe['avg_score'] <= self.my_score+3)]['monthly_loan'].mean()\n",
    "\n",
    "        if np.isnan(avg):\n",
    "            min = self.dataframe['avg_score'].min()\n",
    "            max = self.dataframe['avg_score'].max()\n",
    "            if self.my_score < min:\n",
    "                return self.dataframe[self.dataframe['avg_score'] == min]['monthly_loan'].mean()\n",
    "            elif self.my_score > max:\n",
    "                return self.dataframe[self.dataframe['avg_score'] == max]['monthly_loan'].mean()\n",
    "        \n",
    "        return avg\n",
    "\n",
    "\n",
    "    # 대출 상품 별 금액 비중 순위 (대출 상품 별 평균 대출 금액의 합)\n",
    "    def loan_rank(self):\n",
    "        loan = self.cluster_feature.iloc[self.my_cluster][3:].sort_values(ascending=False)\n",
    "        for i in range(7):\n",
    "            print('{0}위  {1} ({2}%)'.format(i+1, loan.index[i], round(loan[i],2)))\n",
    "\n",
    "    # 상환 비중 Pie Chart\n",
    "    def rep_loanb_pie(self):\n",
    "        return px.pie(values=[self.dataframe['inst_rep_loanb'].mean(), self.dataframe['ls_rep_loanb'].mean()], names=['inst_rep_loanb', 'ls_rep_loanb'], title='대출 상환 비중')\n",
    "\n",
    "    # 클러스터 내 신용 점수 분포\n",
    "    def credit_score_dist(self):\n",
    "        c_score = self.dataframe['avg_score'].values\n",
    "        c_score = [c_score]\n",
    "        fig = ff.create_distplot(c_score, ['신용점수'])\n",
    "        fig.update_layout(title = '신용점수 분포')\n",
    "        annotations = []\n",
    "        annotations.append(dict(x=self.my_score, y=0, text='나의 신용점수', ax=0, ay=-150, borderpad=5, arrowcolor='crimson', arrowwidth=2))\n",
    "        fig.update_layout(annotations=annotations)\n",
    "        return fig\n",
    "    "
   ]
  },
  {
   "cell_type": "markdown",
   "metadata": {},
   "source": [
    "#### test"
   ]
  },
  {
   "cell_type": "code",
   "execution_count": 93,
   "metadata": {},
   "outputs": [
    {
     "ename": "ValueError",
     "evalue": "invalid literal for int() with base 10: ''",
     "output_type": "error",
     "traceback": [
      "\u001b[1;31m---------------------------------------------------------------------------\u001b[0m",
      "\u001b[1;31mValueError\u001b[0m                                Traceback (most recent call last)",
      "\u001b[1;32m~\\AppData\\Local\\Temp\\ipykernel_16036\\4210673328.py\u001b[0m in \u001b[0;36m<module>\u001b[1;34m\u001b[0m\n\u001b[1;32m----> 1\u001b[1;33m \u001b[0minfo\u001b[0m \u001b[1;33m=\u001b[0m \u001b[0mmy_info\u001b[0m\u001b[1;33m(\u001b[0m\u001b[1;33m)\u001b[0m\u001b[1;33m\u001b[0m\u001b[1;33m\u001b[0m\u001b[0m\n\u001b[0m\u001b[0;32m      2\u001b[0m \u001b[0mtest\u001b[0m \u001b[1;33m=\u001b[0m \u001b[0moutput\u001b[0m\u001b[1;33m(\u001b[0m\u001b[0minfo\u001b[0m\u001b[1;33m[\u001b[0m\u001b[1;36m0\u001b[0m\u001b[1;33m]\u001b[0m\u001b[1;33m,\u001b[0m \u001b[0minfo\u001b[0m\u001b[1;33m[\u001b[0m\u001b[1;36m1\u001b[0m\u001b[1;33m]\u001b[0m\u001b[1;33m)\u001b[0m\u001b[1;33m\u001b[0m\u001b[1;33m\u001b[0m\u001b[0m\n",
      "\u001b[1;32m~\\AppData\\Local\\Temp\\ipykernel_16036\\3404604463.py\u001b[0m in \u001b[0;36mmy_info\u001b[1;34m()\u001b[0m\n\u001b[0;32m     10\u001b[0m     \u001b[0mxgb_model\u001b[0m\u001b[1;33m.\u001b[0m\u001b[0mload_model\u001b[0m\u001b[1;33m(\u001b[0m\u001b[1;34m'xgb_model.model'\u001b[0m\u001b[1;33m)\u001b[0m\u001b[1;33m\u001b[0m\u001b[1;33m\u001b[0m\u001b[0m\n\u001b[0;32m     11\u001b[0m \u001b[1;33m\u001b[0m\u001b[0m\n\u001b[1;32m---> 12\u001b[1;33m     \u001b[0mcard\u001b[0m \u001b[1;33m=\u001b[0m \u001b[0mint\u001b[0m\u001b[1;33m(\u001b[0m\u001b[0minput\u001b[0m\u001b[1;33m(\u001b[0m\u001b[1;34m'한달 카드 소비 금액 :'\u001b[0m\u001b[1;33m)\u001b[0m\u001b[1;33m)\u001b[0m\u001b[1;33m\u001b[0m\u001b[1;33m\u001b[0m\u001b[0m\n\u001b[0m\u001b[0;32m     13\u001b[0m     \u001b[0mscore\u001b[0m \u001b[1;33m=\u001b[0m \u001b[0mint\u001b[0m\u001b[1;33m(\u001b[0m\u001b[0minput\u001b[0m\u001b[1;33m(\u001b[0m\u001b[1;34m'신용 점수 :'\u001b[0m\u001b[1;33m)\u001b[0m\u001b[1;33m)\u001b[0m\u001b[1;33m\u001b[0m\u001b[1;33m\u001b[0m\u001b[0m\n\u001b[0;32m     14\u001b[0m     \u001b[0mmy_city\u001b[0m \u001b[1;33m=\u001b[0m \u001b[0minput\u001b[0m\u001b[1;33m(\u001b[0m\u001b[1;34m'거주 지역 :'\u001b[0m\u001b[1;33m)\u001b[0m\u001b[1;33m\u001b[0m\u001b[1;33m\u001b[0m\u001b[0m\n",
      "\u001b[1;31mValueError\u001b[0m: invalid literal for int() with base 10: ''"
     ]
    }
   ],
   "source": [
    "info = my_info()\n",
    "test = output(info[0], info[1])"
   ]
  },
  {
   "cell_type": "code",
   "execution_count": 87,
   "metadata": {},
   "outputs": [
    {
     "name": "stdout",
     "output_type": "stream",
     "text": [
      "인생은 지금부터!\n",
      "소비와 대출이 중위, 고신용으로 안정적 신용관리 기대\n"
     ]
    }
   ],
   "source": [
    "test.feature()"
   ]
  },
  {
   "cell_type": "code",
   "execution_count": 88,
   "metadata": {},
   "outputs": [
    {
     "data": {
      "text/plain": [
       "monthly_loan                 75245000.00000\n",
       "monthly_bk_loan              56100000.00000\n",
       "monthly_cd_loan                800000.00000\n",
       "monthly_installments_loan     2215000.00000\n",
       "monthly_insurance_loan        1630000.00000\n",
       "monthly_sbk_loan               320000.00000\n",
       "credit_loan                  20575000.00000\n",
       "mortgage_loan               101075000.00000\n",
       "dtype: float64"
      ]
     },
     "execution_count": 88,
     "metadata": {},
     "output_type": "execute_result"
    }
   ],
   "source": [
    "test.loan_median()"
   ]
  },
  {
   "cell_type": "code",
   "execution_count": 89,
   "metadata": {},
   "outputs": [
    {
     "data": {
      "text/plain": [
       "101550000.0"
      ]
     },
     "execution_count": 89,
     "metadata": {},
     "output_type": "execute_result"
    }
   ],
   "source": [
    "test.total_loan()"
   ]
  },
  {
   "cell_type": "code",
   "execution_count": 90,
   "metadata": {},
   "outputs": [
    {
     "name": "stdout",
     "output_type": "stream",
     "text": [
      "1위  담보 (55.13%)\n",
      "2위  은행 (31.19%)\n",
      "3위  신용 (10.95%)\n",
      "4위  캐피탈 (1.14%)\n",
      "5위  보험 (0.97%)\n",
      "6위  카드 (0.44%)\n",
      "7위  저축은행 (0.18%)\n"
     ]
    }
   ],
   "source": [
    "test.loan_rank()"
   ]
  },
  {
   "cell_type": "code",
   "execution_count": 91,
   "metadata": {},
   "outputs": [
    {
     "data": {
      "application/vnd.plotly.v1+json": {
       "config": {
        "plotlyServerURL": "https://plot.ly"
       },
       "data": [
        {
         "domain": {
          "x": [
           0,
           1
          ],
          "y": [
           0,
           1
          ]
         },
         "hovertemplate": "label=%{label}<br>value=%{value}<extra></extra>",
         "labels": [
          "inst_rep_loanb",
          "ls_rep_loanb"
         ],
         "legendgroup": "",
         "name": "",
         "showlegend": true,
         "type": "pie",
         "values": [
          21718476.394849785,
          36566802.5751073
         ]
        }
       ],
       "layout": {
        "legend": {
         "tracegroupgap": 0
        },
        "template": {
         "data": {
          "bar": [
           {
            "error_x": {
             "color": "#2a3f5f"
            },
            "error_y": {
             "color": "#2a3f5f"
            },
            "marker": {
             "line": {
              "color": "#E5ECF6",
              "width": 0.5
             },
             "pattern": {
              "fillmode": "overlay",
              "size": 10,
              "solidity": 0.2
             }
            },
            "type": "bar"
           }
          ],
          "barpolar": [
           {
            "marker": {
             "line": {
              "color": "#E5ECF6",
              "width": 0.5
             },
             "pattern": {
              "fillmode": "overlay",
              "size": 10,
              "solidity": 0.2
             }
            },
            "type": "barpolar"
           }
          ],
          "carpet": [
           {
            "aaxis": {
             "endlinecolor": "#2a3f5f",
             "gridcolor": "white",
             "linecolor": "white",
             "minorgridcolor": "white",
             "startlinecolor": "#2a3f5f"
            },
            "baxis": {
             "endlinecolor": "#2a3f5f",
             "gridcolor": "white",
             "linecolor": "white",
             "minorgridcolor": "white",
             "startlinecolor": "#2a3f5f"
            },
            "type": "carpet"
           }
          ],
          "choropleth": [
           {
            "colorbar": {
             "outlinewidth": 0,
             "ticks": ""
            },
            "type": "choropleth"
           }
          ],
          "contour": [
           {
            "colorbar": {
             "outlinewidth": 0,
             "ticks": ""
            },
            "colorscale": [
             [
              0,
              "#0d0887"
             ],
             [
              0.1111111111111111,
              "#46039f"
             ],
             [
              0.2222222222222222,
              "#7201a8"
             ],
             [
              0.3333333333333333,
              "#9c179e"
             ],
             [
              0.4444444444444444,
              "#bd3786"
             ],
             [
              0.5555555555555556,
              "#d8576b"
             ],
             [
              0.6666666666666666,
              "#ed7953"
             ],
             [
              0.7777777777777778,
              "#fb9f3a"
             ],
             [
              0.8888888888888888,
              "#fdca26"
             ],
             [
              1,
              "#f0f921"
             ]
            ],
            "type": "contour"
           }
          ],
          "contourcarpet": [
           {
            "colorbar": {
             "outlinewidth": 0,
             "ticks": ""
            },
            "type": "contourcarpet"
           }
          ],
          "heatmap": [
           {
            "colorbar": {
             "outlinewidth": 0,
             "ticks": ""
            },
            "colorscale": [
             [
              0,
              "#0d0887"
             ],
             [
              0.1111111111111111,
              "#46039f"
             ],
             [
              0.2222222222222222,
              "#7201a8"
             ],
             [
              0.3333333333333333,
              "#9c179e"
             ],
             [
              0.4444444444444444,
              "#bd3786"
             ],
             [
              0.5555555555555556,
              "#d8576b"
             ],
             [
              0.6666666666666666,
              "#ed7953"
             ],
             [
              0.7777777777777778,
              "#fb9f3a"
             ],
             [
              0.8888888888888888,
              "#fdca26"
             ],
             [
              1,
              "#f0f921"
             ]
            ],
            "type": "heatmap"
           }
          ],
          "heatmapgl": [
           {
            "colorbar": {
             "outlinewidth": 0,
             "ticks": ""
            },
            "colorscale": [
             [
              0,
              "#0d0887"
             ],
             [
              0.1111111111111111,
              "#46039f"
             ],
             [
              0.2222222222222222,
              "#7201a8"
             ],
             [
              0.3333333333333333,
              "#9c179e"
             ],
             [
              0.4444444444444444,
              "#bd3786"
             ],
             [
              0.5555555555555556,
              "#d8576b"
             ],
             [
              0.6666666666666666,
              "#ed7953"
             ],
             [
              0.7777777777777778,
              "#fb9f3a"
             ],
             [
              0.8888888888888888,
              "#fdca26"
             ],
             [
              1,
              "#f0f921"
             ]
            ],
            "type": "heatmapgl"
           }
          ],
          "histogram": [
           {
            "marker": {
             "pattern": {
              "fillmode": "overlay",
              "size": 10,
              "solidity": 0.2
             }
            },
            "type": "histogram"
           }
          ],
          "histogram2d": [
           {
            "colorbar": {
             "outlinewidth": 0,
             "ticks": ""
            },
            "colorscale": [
             [
              0,
              "#0d0887"
             ],
             [
              0.1111111111111111,
              "#46039f"
             ],
             [
              0.2222222222222222,
              "#7201a8"
             ],
             [
              0.3333333333333333,
              "#9c179e"
             ],
             [
              0.4444444444444444,
              "#bd3786"
             ],
             [
              0.5555555555555556,
              "#d8576b"
             ],
             [
              0.6666666666666666,
              "#ed7953"
             ],
             [
              0.7777777777777778,
              "#fb9f3a"
             ],
             [
              0.8888888888888888,
              "#fdca26"
             ],
             [
              1,
              "#f0f921"
             ]
            ],
            "type": "histogram2d"
           }
          ],
          "histogram2dcontour": [
           {
            "colorbar": {
             "outlinewidth": 0,
             "ticks": ""
            },
            "colorscale": [
             [
              0,
              "#0d0887"
             ],
             [
              0.1111111111111111,
              "#46039f"
             ],
             [
              0.2222222222222222,
              "#7201a8"
             ],
             [
              0.3333333333333333,
              "#9c179e"
             ],
             [
              0.4444444444444444,
              "#bd3786"
             ],
             [
              0.5555555555555556,
              "#d8576b"
             ],
             [
              0.6666666666666666,
              "#ed7953"
             ],
             [
              0.7777777777777778,
              "#fb9f3a"
             ],
             [
              0.8888888888888888,
              "#fdca26"
             ],
             [
              1,
              "#f0f921"
             ]
            ],
            "type": "histogram2dcontour"
           }
          ],
          "mesh3d": [
           {
            "colorbar": {
             "outlinewidth": 0,
             "ticks": ""
            },
            "type": "mesh3d"
           }
          ],
          "parcoords": [
           {
            "line": {
             "colorbar": {
              "outlinewidth": 0,
              "ticks": ""
             }
            },
            "type": "parcoords"
           }
          ],
          "pie": [
           {
            "automargin": true,
            "type": "pie"
           }
          ],
          "scatter": [
           {
            "fillpattern": {
             "fillmode": "overlay",
             "size": 10,
             "solidity": 0.2
            },
            "type": "scatter"
           }
          ],
          "scatter3d": [
           {
            "line": {
             "colorbar": {
              "outlinewidth": 0,
              "ticks": ""
             }
            },
            "marker": {
             "colorbar": {
              "outlinewidth": 0,
              "ticks": ""
             }
            },
            "type": "scatter3d"
           }
          ],
          "scattercarpet": [
           {
            "marker": {
             "colorbar": {
              "outlinewidth": 0,
              "ticks": ""
             }
            },
            "type": "scattercarpet"
           }
          ],
          "scattergeo": [
           {
            "marker": {
             "colorbar": {
              "outlinewidth": 0,
              "ticks": ""
             }
            },
            "type": "scattergeo"
           }
          ],
          "scattergl": [
           {
            "marker": {
             "colorbar": {
              "outlinewidth": 0,
              "ticks": ""
             }
            },
            "type": "scattergl"
           }
          ],
          "scattermapbox": [
           {
            "marker": {
             "colorbar": {
              "outlinewidth": 0,
              "ticks": ""
             }
            },
            "type": "scattermapbox"
           }
          ],
          "scatterpolar": [
           {
            "marker": {
             "colorbar": {
              "outlinewidth": 0,
              "ticks": ""
             }
            },
            "type": "scatterpolar"
           }
          ],
          "scatterpolargl": [
           {
            "marker": {
             "colorbar": {
              "outlinewidth": 0,
              "ticks": ""
             }
            },
            "type": "scatterpolargl"
           }
          ],
          "scatterternary": [
           {
            "marker": {
             "colorbar": {
              "outlinewidth": 0,
              "ticks": ""
             }
            },
            "type": "scatterternary"
           }
          ],
          "surface": [
           {
            "colorbar": {
             "outlinewidth": 0,
             "ticks": ""
            },
            "colorscale": [
             [
              0,
              "#0d0887"
             ],
             [
              0.1111111111111111,
              "#46039f"
             ],
             [
              0.2222222222222222,
              "#7201a8"
             ],
             [
              0.3333333333333333,
              "#9c179e"
             ],
             [
              0.4444444444444444,
              "#bd3786"
             ],
             [
              0.5555555555555556,
              "#d8576b"
             ],
             [
              0.6666666666666666,
              "#ed7953"
             ],
             [
              0.7777777777777778,
              "#fb9f3a"
             ],
             [
              0.8888888888888888,
              "#fdca26"
             ],
             [
              1,
              "#f0f921"
             ]
            ],
            "type": "surface"
           }
          ],
          "table": [
           {
            "cells": {
             "fill": {
              "color": "#EBF0F8"
             },
             "line": {
              "color": "white"
             }
            },
            "header": {
             "fill": {
              "color": "#C8D4E3"
             },
             "line": {
              "color": "white"
             }
            },
            "type": "table"
           }
          ]
         },
         "layout": {
          "annotationdefaults": {
           "arrowcolor": "#2a3f5f",
           "arrowhead": 0,
           "arrowwidth": 1
          },
          "autotypenumbers": "strict",
          "coloraxis": {
           "colorbar": {
            "outlinewidth": 0,
            "ticks": ""
           }
          },
          "colorscale": {
           "diverging": [
            [
             0,
             "#8e0152"
            ],
            [
             0.1,
             "#c51b7d"
            ],
            [
             0.2,
             "#de77ae"
            ],
            [
             0.3,
             "#f1b6da"
            ],
            [
             0.4,
             "#fde0ef"
            ],
            [
             0.5,
             "#f7f7f7"
            ],
            [
             0.6,
             "#e6f5d0"
            ],
            [
             0.7,
             "#b8e186"
            ],
            [
             0.8,
             "#7fbc41"
            ],
            [
             0.9,
             "#4d9221"
            ],
            [
             1,
             "#276419"
            ]
           ],
           "sequential": [
            [
             0,
             "#0d0887"
            ],
            [
             0.1111111111111111,
             "#46039f"
            ],
            [
             0.2222222222222222,
             "#7201a8"
            ],
            [
             0.3333333333333333,
             "#9c179e"
            ],
            [
             0.4444444444444444,
             "#bd3786"
            ],
            [
             0.5555555555555556,
             "#d8576b"
            ],
            [
             0.6666666666666666,
             "#ed7953"
            ],
            [
             0.7777777777777778,
             "#fb9f3a"
            ],
            [
             0.8888888888888888,
             "#fdca26"
            ],
            [
             1,
             "#f0f921"
            ]
           ],
           "sequentialminus": [
            [
             0,
             "#0d0887"
            ],
            [
             0.1111111111111111,
             "#46039f"
            ],
            [
             0.2222222222222222,
             "#7201a8"
            ],
            [
             0.3333333333333333,
             "#9c179e"
            ],
            [
             0.4444444444444444,
             "#bd3786"
            ],
            [
             0.5555555555555556,
             "#d8576b"
            ],
            [
             0.6666666666666666,
             "#ed7953"
            ],
            [
             0.7777777777777778,
             "#fb9f3a"
            ],
            [
             0.8888888888888888,
             "#fdca26"
            ],
            [
             1,
             "#f0f921"
            ]
           ]
          },
          "colorway": [
           "#636efa",
           "#EF553B",
           "#00cc96",
           "#ab63fa",
           "#FFA15A",
           "#19d3f3",
           "#FF6692",
           "#B6E880",
           "#FF97FF",
           "#FECB52"
          ],
          "font": {
           "color": "#2a3f5f"
          },
          "geo": {
           "bgcolor": "white",
           "lakecolor": "white",
           "landcolor": "#E5ECF6",
           "showlakes": true,
           "showland": true,
           "subunitcolor": "white"
          },
          "hoverlabel": {
           "align": "left"
          },
          "hovermode": "closest",
          "mapbox": {
           "style": "light"
          },
          "paper_bgcolor": "white",
          "plot_bgcolor": "#E5ECF6",
          "polar": {
           "angularaxis": {
            "gridcolor": "white",
            "linecolor": "white",
            "ticks": ""
           },
           "bgcolor": "#E5ECF6",
           "radialaxis": {
            "gridcolor": "white",
            "linecolor": "white",
            "ticks": ""
           }
          },
          "scene": {
           "xaxis": {
            "backgroundcolor": "#E5ECF6",
            "gridcolor": "white",
            "gridwidth": 2,
            "linecolor": "white",
            "showbackground": true,
            "ticks": "",
            "zerolinecolor": "white"
           },
           "yaxis": {
            "backgroundcolor": "#E5ECF6",
            "gridcolor": "white",
            "gridwidth": 2,
            "linecolor": "white",
            "showbackground": true,
            "ticks": "",
            "zerolinecolor": "white"
           },
           "zaxis": {
            "backgroundcolor": "#E5ECF6",
            "gridcolor": "white",
            "gridwidth": 2,
            "linecolor": "white",
            "showbackground": true,
            "ticks": "",
            "zerolinecolor": "white"
           }
          },
          "shapedefaults": {
           "line": {
            "color": "#2a3f5f"
           }
          },
          "ternary": {
           "aaxis": {
            "gridcolor": "white",
            "linecolor": "white",
            "ticks": ""
           },
           "baxis": {
            "gridcolor": "white",
            "linecolor": "white",
            "ticks": ""
           },
           "bgcolor": "#E5ECF6",
           "caxis": {
            "gridcolor": "white",
            "linecolor": "white",
            "ticks": ""
           }
          },
          "title": {
           "x": 0.05
          },
          "xaxis": {
           "automargin": true,
           "gridcolor": "white",
           "linecolor": "white",
           "ticks": "",
           "title": {
            "standoff": 15
           },
           "zerolinecolor": "white",
           "zerolinewidth": 2
          },
          "yaxis": {
           "automargin": true,
           "gridcolor": "white",
           "linecolor": "white",
           "ticks": "",
           "title": {
            "standoff": 15
           },
           "zerolinecolor": "white",
           "zerolinewidth": 2
          }
         }
        },
        "title": {
         "text": "대출 상환 비중"
        }
       }
      }
     },
     "metadata": {},
     "output_type": "display_data"
    }
   ],
   "source": [
    "test.rep_loanb_pie()"
   ]
  },
  {
   "cell_type": "code",
   "execution_count": 92,
   "metadata": {},
   "outputs": [
    {
     "data": {
      "application/vnd.plotly.v1+json": {
       "config": {
        "plotlyServerURL": "https://plot.ly"
       },
       "data": [
        {
         "autobinx": false,
         "histnorm": "probability density",
         "legendgroup": "신용점수",
         "marker": {
          "color": "rgb(31, 119, 180)"
         },
         "name": "신용점수",
         "opacity": 0.7,
         "type": "histogram",
         "x": [
          793,
          832,
          832,
          832,
          832,
          832,
          832,
          833,
          833,
          833,
          833,
          834,
          834,
          835,
          835,
          835,
          836,
          835,
          836,
          836,
          836,
          836,
          836,
          836,
          767,
          810,
          810,
          810,
          811,
          811,
          811,
          813,
          812,
          813,
          813,
          814,
          814,
          815,
          815,
          815,
          815,
          815,
          816,
          816,
          816,
          816,
          816,
          817,
          789,
          831,
          831,
          831,
          832,
          832,
          833,
          833,
          833,
          833,
          834,
          834,
          834,
          835,
          835,
          835,
          835,
          835,
          835,
          835,
          835,
          836,
          835,
          836,
          792,
          832,
          834,
          835,
          835,
          835,
          835,
          836,
          836,
          836,
          836,
          836,
          836,
          837,
          837,
          837,
          837,
          838,
          838,
          838,
          838,
          838,
          838,
          839,
          788,
          829,
          830,
          830,
          830,
          831,
          831,
          832,
          831,
          832,
          832,
          831,
          832,
          833,
          833,
          833,
          833,
          833,
          833,
          833,
          833,
          833,
          833,
          833,
          785,
          827,
          827,
          828,
          828,
          828,
          828,
          829,
          829,
          829,
          829,
          830,
          830,
          831,
          831,
          831,
          831,
          831,
          831,
          831,
          832,
          832,
          832,
          832,
          790,
          832,
          833,
          833,
          833,
          833,
          833,
          834,
          834,
          834,
          834,
          834,
          834,
          835,
          835,
          835,
          835,
          835,
          835,
          835,
          835,
          836,
          835,
          836,
          779,
          821,
          821,
          821,
          821,
          822,
          822,
          823,
          823,
          823,
          824,
          824,
          824,
          825,
          825,
          825,
          825,
          825,
          826,
          826,
          826,
          826,
          826,
          827,
          769,
          812,
          812,
          813,
          813,
          813,
          814,
          815,
          815,
          815,
          816,
          816,
          816,
          818,
          818,
          818,
          818,
          818,
          818,
          819,
          819,
          820,
          820,
          820,
          778,
          819,
          819,
          819,
          819,
          820,
          820,
          821,
          821,
          821,
          821,
          822,
          822,
          823,
          823,
          823,
          823,
          823,
          823,
          823,
          823,
          824,
          824,
          824,
          771,
          810,
          810,
          810,
          811,
          811,
          811,
          812,
          812,
          812,
          813,
          813,
          813,
          815,
          815,
          815,
          815,
          815,
          815,
          815,
          816,
          816,
          816,
          816,
          772,
          812,
          812,
          813,
          813,
          813,
          814,
          815,
          814,
          814,
          815,
          815,
          815,
          817,
          817,
          817,
          817,
          817,
          818,
          818,
          818,
          818,
          819,
          819,
          767,
          803,
          804,
          804,
          805,
          805,
          806,
          807,
          806,
          807,
          807,
          807,
          808,
          810,
          810,
          810,
          810,
          811,
          811,
          812,
          812,
          812,
          812,
          813,
          782,
          820,
          821,
          821,
          821,
          821,
          822,
          823,
          822,
          822,
          823,
          823,
          823,
          825,
          825,
          825,
          825,
          825,
          826,
          826,
          826,
          826,
          827,
          827,
          779,
          818,
          819,
          819,
          820,
          820,
          821,
          822,
          821,
          821,
          822,
          822,
          822,
          824,
          824,
          824,
          824,
          824,
          824,
          824,
          825,
          825,
          825,
          825,
          815,
          816,
          816,
          816,
          817,
          817,
          818,
          818,
          818,
          818,
          818,
          818,
          820,
          820,
          820,
          820,
          820,
          821,
          821,
          820,
          821,
          821,
          821,
          775,
          817,
          817,
          818,
          818,
          818,
          818,
          819,
          819,
          819,
          820,
          820,
          820,
          820,
          820,
          820,
          820,
          820,
          820,
          820,
          821,
          821,
          821,
          821,
          785,
          824,
          824,
          824,
          825,
          825,
          825,
          826,
          826,
          826,
          827,
          827,
          827,
          827,
          827,
          827,
          827,
          827,
          828,
          828,
          828,
          829,
          829,
          829,
          805,
          843,
          843,
          843,
          843,
          844,
          844,
          845,
          845,
          845,
          846,
          846,
          847,
          848,
          848,
          848,
          848,
          848,
          849,
          849,
          849,
          850,
          850,
          850,
          779,
          795,
          799,
          790,
          788,
          793,
          781,
          795,
          784,
          791,
          781
         ],
         "xaxis": "x",
         "xbins": {
          "end": 850,
          "size": 1,
          "start": 767
         },
         "yaxis": "y"
        },
        {
         "legendgroup": "신용점수",
         "marker": {
          "color": "rgb(31, 119, 180)"
         },
         "mode": "lines",
         "name": "신용점수",
         "showlegend": false,
         "type": "scatter",
         "x": [
          767,
          767.166,
          767.332,
          767.498,
          767.664,
          767.83,
          767.996,
          768.162,
          768.328,
          768.494,
          768.66,
          768.826,
          768.992,
          769.158,
          769.324,
          769.49,
          769.656,
          769.822,
          769.988,
          770.154,
          770.32,
          770.486,
          770.652,
          770.818,
          770.984,
          771.15,
          771.316,
          771.482,
          771.648,
          771.814,
          771.98,
          772.146,
          772.312,
          772.478,
          772.644,
          772.81,
          772.976,
          773.142,
          773.308,
          773.474,
          773.64,
          773.806,
          773.972,
          774.138,
          774.304,
          774.47,
          774.636,
          774.802,
          774.968,
          775.134,
          775.3,
          775.466,
          775.632,
          775.798,
          775.964,
          776.13,
          776.296,
          776.462,
          776.628,
          776.794,
          776.96,
          777.126,
          777.292,
          777.458,
          777.624,
          777.79,
          777.956,
          778.122,
          778.288,
          778.454,
          778.62,
          778.786,
          778.952,
          779.118,
          779.284,
          779.45,
          779.616,
          779.782,
          779.948,
          780.114,
          780.28,
          780.446,
          780.612,
          780.778,
          780.944,
          781.11,
          781.276,
          781.442,
          781.608,
          781.774,
          781.94,
          782.106,
          782.272,
          782.438,
          782.604,
          782.77,
          782.936,
          783.102,
          783.268,
          783.434,
          783.6,
          783.766,
          783.932,
          784.098,
          784.264,
          784.43,
          784.596,
          784.762,
          784.928,
          785.094,
          785.26,
          785.426,
          785.592,
          785.758,
          785.924,
          786.09,
          786.256,
          786.422,
          786.588,
          786.754,
          786.92,
          787.086,
          787.252,
          787.418,
          787.584,
          787.75,
          787.916,
          788.082,
          788.248,
          788.414,
          788.58,
          788.746,
          788.912,
          789.078,
          789.244,
          789.41,
          789.576,
          789.742,
          789.908,
          790.074,
          790.24,
          790.406,
          790.572,
          790.738,
          790.904,
          791.07,
          791.236,
          791.402,
          791.568,
          791.734,
          791.9,
          792.066,
          792.232,
          792.398,
          792.564,
          792.73,
          792.896,
          793.062,
          793.228,
          793.394,
          793.56,
          793.726,
          793.892,
          794.058,
          794.224,
          794.39,
          794.556,
          794.722,
          794.888,
          795.054,
          795.22,
          795.386,
          795.552,
          795.718,
          795.884,
          796.05,
          796.216,
          796.382,
          796.548,
          796.7139999999999,
          796.88,
          797.046,
          797.212,
          797.378,
          797.544,
          797.71,
          797.876,
          798.042,
          798.208,
          798.374,
          798.54,
          798.706,
          798.872,
          799.038,
          799.204,
          799.37,
          799.5360000000001,
          799.702,
          799.868,
          800.034,
          800.2,
          800.366,
          800.532,
          800.698,
          800.864,
          801.03,
          801.196,
          801.362,
          801.528,
          801.694,
          801.86,
          802.026,
          802.192,
          802.358,
          802.524,
          802.69,
          802.856,
          803.022,
          803.188,
          803.354,
          803.52,
          803.686,
          803.852,
          804.018,
          804.184,
          804.35,
          804.516,
          804.682,
          804.848,
          805.014,
          805.18,
          805.346,
          805.512,
          805.678,
          805.844,
          806.01,
          806.176,
          806.342,
          806.508,
          806.674,
          806.84,
          807.006,
          807.172,
          807.338,
          807.504,
          807.67,
          807.836,
          808.002,
          808.168,
          808.3340000000001,
          808.5,
          808.6659999999999,
          808.832,
          808.998,
          809.164,
          809.33,
          809.496,
          809.662,
          809.828,
          809.994,
          810.16,
          810.326,
          810.492,
          810.658,
          810.824,
          810.99,
          811.156,
          811.322,
          811.488,
          811.654,
          811.82,
          811.986,
          812.152,
          812.318,
          812.484,
          812.65,
          812.816,
          812.982,
          813.148,
          813.314,
          813.48,
          813.646,
          813.812,
          813.978,
          814.144,
          814.31,
          814.476,
          814.642,
          814.808,
          814.974,
          815.14,
          815.306,
          815.472,
          815.638,
          815.804,
          815.97,
          816.136,
          816.302,
          816.468,
          816.634,
          816.8,
          816.966,
          817.132,
          817.298,
          817.4639999999999,
          817.63,
          817.796,
          817.962,
          818.128,
          818.294,
          818.46,
          818.626,
          818.792,
          818.958,
          819.124,
          819.29,
          819.456,
          819.622,
          819.788,
          819.954,
          820.12,
          820.2860000000001,
          820.452,
          820.618,
          820.784,
          820.95,
          821.116,
          821.282,
          821.448,
          821.614,
          821.78,
          821.946,
          822.112,
          822.278,
          822.444,
          822.61,
          822.776,
          822.942,
          823.108,
          823.274,
          823.44,
          823.606,
          823.772,
          823.938,
          824.104,
          824.27,
          824.436,
          824.602,
          824.768,
          824.934,
          825.1,
          825.266,
          825.432,
          825.598,
          825.764,
          825.93,
          826.096,
          826.262,
          826.428,
          826.594,
          826.76,
          826.926,
          827.092,
          827.258,
          827.424,
          827.59,
          827.756,
          827.922,
          828.088,
          828.254,
          828.42,
          828.586,
          828.752,
          828.918,
          829.0840000000001,
          829.25,
          829.4159999999999,
          829.582,
          829.748,
          829.914,
          830.08,
          830.246,
          830.412,
          830.578,
          830.744,
          830.91,
          831.076,
          831.242,
          831.408,
          831.574,
          831.74,
          831.906,
          832.072,
          832.238,
          832.404,
          832.5699999999999,
          832.736,
          832.902,
          833.068,
          833.234,
          833.4,
          833.566,
          833.732,
          833.898,
          834.064,
          834.23,
          834.396,
          834.562,
          834.728,
          834.894,
          835.06,
          835.226,
          835.392,
          835.558,
          835.724,
          835.89,
          836.056,
          836.222,
          836.388,
          836.554,
          836.72,
          836.886,
          837.052,
          837.218,
          837.384,
          837.55,
          837.716,
          837.8820000000001,
          838.048,
          838.2139999999999,
          838.38,
          838.546,
          838.712,
          838.878,
          839.044,
          839.21,
          839.376,
          839.542,
          839.708,
          839.874,
          840.04,
          840.206,
          840.372,
          840.538,
          840.704,
          840.87,
          841.0360000000001,
          841.202,
          841.3679999999999,
          841.534,
          841.7,
          841.866,
          842.032,
          842.198,
          842.364,
          842.53,
          842.696,
          842.862,
          843.028,
          843.194,
          843.36,
          843.526,
          843.692,
          843.858,
          844.024,
          844.19,
          844.356,
          844.522,
          844.688,
          844.854,
          845.02,
          845.186,
          845.352,
          845.518,
          845.684,
          845.85,
          846.016,
          846.182,
          846.348,
          846.514,
          846.6800000000001,
          846.846,
          847.012,
          847.178,
          847.344,
          847.51,
          847.676,
          847.842,
          848.008,
          848.174,
          848.34,
          848.506,
          848.672,
          848.838,
          849.004,
          849.17,
          849.336,
          849.502,
          849.668,
          849.8340000000001
         ],
         "xaxis": "x",
         "y": [
          0.0008841461407165299,
          0.0009021412931253839,
          0.0009195682642326743,
          0.0009364045465424106,
          0.0009526314542485034,
          0.0009682342974103755,
          0.0009832025298523945,
          0.0009975298692942475,
          0.0010112143884176339,
          0.0010242585757828126,
          0.0010366693657217537,
          0.0010484581365541462,
          0.001059640676694365,
          0.0010702371184428314,
          0.0010802718394806894,
          0.001089773332313503,
          0.0010987740421348601,
          0.0011073101738056203,
          0.001115421468866442,
          0.0011231509537213953,
          0.0011305446603466645,
          0.0011376513210912056,
          0.0011445220393443093,
          0.0011512099380477502,
          0.0011577697882270066,
          0.0011642576199051185,
          0.001170730317943952,
          0.001177245205528373,
          0.0011838596181687911,
          0.0011906304712436858,
          0.0011976138242353893,
          0.001204864444926301,
          0.0012124353769178333,
          0.0012203775139072294,
          0.0012287391842069363,
          0.0012375657490138279,
          0.0012468992179303316,
          0.001256777885203216,
          0.001267235990077399,
          0.001278303404559639,
          0.0012900053517490501,
          0.0013023621577178575,
          0.0013153890397150524,
          0.0013290959332194381,
          0.0013434873600858233,
          0.001358562339712032,
          0.001374314344804879,
          0.0013907313029449253,
          0.0014077956447436386,
          0.0014254843989586123,
          0.0014437693344845157,
          0.0014626171486770581,
          0.001481989700996692,
          0.0015018442904871638,
          0.0015221339751331818,
          0.0015428079306822097,
          0.0015638118460696796,
          0.0015850883521635946,
          0.0016065774801495077,
          0.0016282171455140816,
          0.0016499436532636837,
          0.0016716922197350698,
          0.0016933975061265304,
          0.001714994158699984,
          0.0017364173504843471,
          0.0017576033192467193,
          0.0017784898964958047,
          0.0017990170223383842,
          0.001819127241128106,
          0.0018387661730218693,
          0.0018578829567932073,
          0.0018764306595397122,
          0.0018943666492605988,
          0.001911652926664556,
          0.0019282564129946811,
          0.0019441491911182736,
          0.001959308697620299,
          0.001973717864153759,
          0.001987365206829991,
          0.002000244862972628,
          0.00201235657510105,
          0.0020237056225485745,
          0.002034302701648285,
          0.002044163755931534,
          0.0020533097582724562,
          0.0020617664473734486,
          0.0020695640214140622,
          0.0020767367920775047,
          0.0020833228025189388,
          0.002089363413147071,
          0.0020949028593513345,
          0.0020999877855208257,
          0.00210466675986648,
          0.0021089897746746807,
          0.002113007736689193,
          0.002116771952339355,
          0.002120333612507981,
          0.002123743281463549,
          0.0021270503944710428,
          0.002130302768446293,
          0.0021335461298331044,
          0.0021368236636638994,
          0.002140175587516396,
          0.0021436387538042775,
          0.0021472462835426427,
          0.002151027234412308,
          0.002155006305614868,
          0.0021592035816654347,
          0.002163634316916332,
          0.0021683087622452186,
          0.0021732320349787332,
          0.002178404032760604,
          0.0021838193917138884,
          0.0021894674888937597,
          0.002195332488681759,
          0.002201393432438244,
          0.0022076243704075246,
          0.0022139945345636784,
          0.0022204685507946414,
          0.002227006688550762,
          0.0022335651458323964,
          0.002240096367161502,
          0.002246549391974735,
          0.002252870230692811,
          0.002259002265562213,
          0.0022648866732328044,
          0.002270462865927734,
          0.002275668947982303,
          0.0022804421844736054,
          0.002284719478635984,
          0.0022884378547550575,
          0.00229153494325715,
          0.0022939494647591444,
          0.002295621709915699,
          0.0022964940119950743,
          0.0022965112092298546,
          0.0022956210941234814,
          0.002293774847045315,
          0.0022909274516146145,
          0.002287038089555129,
          0.0022820705128942524,
          0.002275993391582901,
          0.002268780634821175,
          0.0022604116845883777,
          0.002250871780092712,
          0.0022401521920731283,
          0.002228250426100961,
          0.0022151703942418074,
          0.0022009225546454105,
          0.002185524018831149,
          0.002168998626630871,
          0.002151376988932955,
          0.00213269649854587,
          0.0021130013096615674,
          0.00209234228655075,
          0.002070776922261177,
          0.002048369228218759,
          0.0020251895957468908,
          0.002001314630625676,
          0.001976826961906144,
          0.0019518150262805732,
          0.001926372829384462,
          0.0019005996854741685,
          0.0018745999369840153,
          0.001848482655521734,
          0.0018223613259106223,
          0.0017963535149331503,
          0.0017705805264747992,
          0.0017451670448086396,
          0.001720240767804234,
          0.0016959320318856623,
          0.0016723734306083075,
          0.001649699428767712,
          0.0016280459740020614,
          0.001607550107897042,
          0.001588349578652892,
          0.0015705824574231881,
          0.0015543867604860772,
          0.0015399000794567724,
          0.0015272592217964777,
          0.0015165998639126695,
          0.0015080562191789962,
          0.0015017607232255888,
          0.0014978437388603548,
          0.0014964332829755455,
          0.0014976547777680552,
          0.0015016308285536568,
          0.0015084810303808147,
          0.0015183218055460459,
          0.0015312662739765134,
          0.0015474241582739447,
          0.0015669017250048492,
          0.0015898017635725072,
          0.001616223603716576,
          0.0016462631723531316,
          0.0016800130900952242,
          0.0017175628073778817,
          0.0017589987796599804,
          0.0018044046806843777,
          0.0018538616522577463,
          0.0019074485884646964,
          0.0019652424516617916,
          0.002027318617018703,
          0.0020937512417867807,
          0.0021646136548978583,
          0.002239978761928761,
          0.0023199194599305595,
          0.002404509056116713,
          0.0024938216839541652,
          0.0025879327098047938,
          0.002686919122947151,
          0.0027908599015661786,
          0.002899836347156254,
          0.003013932379738357,
          0.003133234786360735,
          0.003257833415536668,
          0.003387821310582262,
          0.0035232947752484524,
          0.0036643533655994725,
          0.0038110998027770246,
          0.003963639802088611,
          0.004122081814782976,
          0.0042865366798940634,
          0.0044571171846601604,
          0.004633937533217682,
          0.004817112724540941,
          0.00500675784190366,
          0.00520298725748428,
          0.005405913757075464,
          0.005615647591197985,
          0.005832295460198772,
          0.0060559594421561135,
          0.006286735873549418,
          0.006524714193700317,
          0.006769975764893165,
          0.007022592680855974,
          0.0072826265768749674,
          0.007550127455233673,
          0.007825132539897956,
          0.008107665174380196,
          0.008397733776539773,
          0.008695330863667186,
          0.009000432160601445,
          0.009312995802805379,
          0.009632961645322674,
          0.009960250687337972,
          0.01029476462070383,
          0.010636385509279981,
          0.010984975604300935,
          0.01134037729923516,
          0.011702413225795934,
          0.012070886490894004,
          0.012445581052448158,
          0.012826262230107159,
          0.013212677345121824,
          0.013604556481862982,
          0.01400161336184326,
          0.01440354631960941,
          0.014810039368513545,
          0.01522076334322698,
          0.01563537710488693,
          0.016053528794040473,
          0.016474857116031576,
          0.016898992643220374,
          0.017325559118394777,
          0.017754174743975133,
          0.01818445344206836,
          0.018616006071153844,
          0.019048441586100025,
          0.019481368129366104,
          0.01991439404257203,
          0.020347128789117607,
          0.0207791837801899,
          0.021210173098247454,
          0.021639714113931934,
          0.022067427994255293,
          0.022492940101854052,
          0.022915880287014773,
          0.023335883076085976,
          0.02375258776168169,
          0.024165638401840342,
          0.024574683736863154,
          0.0249793770340353,
          0.025379375871676168,
          0.02577434187506158,
          0.026163940417612257,
          0.02654784030139805,
          0.026925713431397467,
          0.027297234498139714,
          0.0276620806832719,
          0.02801993140228421,
          0.02837046809809677,
          0.02871337409842945,
          0.029048334548926604,
          0.029375036432828378,
          0.029693168686663628,
          0.030002422419948046,
          0.030302491245279124,
          0.030593071723511087,
          0.03087386392693579,
          0.03114457212157794,
          0.031404905567907114,
          0.031654579437457406,
          0.0318933158411035,
          0.03212084496304519,
          0.032336906292980465,
          0.03254124994746498,
          0.03273363807013593,
          0.0329138462992944,
          0.03308166529033335,
          0.033236902279666594,
          0.03337938267615785,
          0.033508951665590286,
          0.03362547581342406,
          0.03372884465099197,
          0.033818972230338404,
          0.03389579863313302,
          0.03395929141944789,
          0.03400944700268425,
          0.03404629193752345,
          0.03406988410847136,
          0.03408031380731508,
          0.034077704688615096,
          0.0340622145931863,
          0.03403403623035963,
          0.033993397710648625,
          0.033940562921254504,
          0.033875831737613396,
          0.03379954006492157,
          0.03371205970424885,
          0.033613798038476576,
          0.03350519753386491,
          0.033386735053582625,
          0.03325892098000838,
          0.03312229814307709,
          0.03297744055237354,
          0.03282495193112851,
          0.032665464050729225,
          0.03249963486486111,
          0.032328146442963716,
          0.03215170270333378,
          0.03197102694695113,
          0.031786859193980325,
          0.03159995332590579,
          0.031411074037411196,
          0.031220993603436917,
          0.03103048846832412,
          0.030840335665607732,
          0.030651309078823807,
          0.030464175555662287,
          0.030279690889889396,
          0.030098595687682354,
          0.02992161113731658,
          0.029749434703515022,
          0.029582735770148583,
          0.02942215125735034,
          0.029268281241410475,
          0.02912168460802633,
          0.028982874771521557,
          0.028852315494503615,
          0.028730416844010294,
          0.028617531321497528,
          0.028513950204964722,
          0.028419900142075776,
          0.02833554003327246,
          0.02826095824355357,
          0.028196170180792277,
          0.02814111627715097,
          0.028095660408336522,
          0.028059588783085825,
          0.028032609332421615,
          0.02801435162484593,
          0.028004367329803406,
          0.028002131247440436,
          0.02800704291798302,
          0.02801842881897628,
          0.028035545153230805,
          0.028057581224683027,
          0.028083663393531466,
          0.028112859596059536,
          0.028144184408558356,
          0.028176604628786794,
          0.0282090453425562,
          0.028240396437352277,
          0.028269519519501515,
          0.028295255186324243,
          0.02831643060006886,
          0.02833186730623741,
          0.028340389235289278,
          0.028340830823665352,
          0.02833204518768152,
          0.028312912282127883,
          0.0282823469744118,
          0.028239306964815393,
          0.028182800483925373,
          0.02811189369951855,
          0.028025717767166176,
          0.02792347546150953,
          0.027804447328559884,
          0.02766799730343015,
          0.02751357774257648,
          0.027340733824869082,
          0.027149107281558078,
          0.0269384394213732,
          0.026708573423563243,
          0.02645945587851294,
          0.02619113756263873,
          0.025903773441455086,
          0.02559762190194098,
          0.025273043222538538,
          0.024930497296212963,
          0.024570540628885473,
          0.02419382264218077,
          0.023801081315701647,
          0.023393138209895806,
          0.02297089291598259,
          0.022535316984232345,
          0.02208744738618734,
          0.021628379570035466,
          0.021159260171362226,
          0.020681279443795976,
          0.020195663475699524,
          0.019703666259945428,
          0.019206561684050858,
          0.018705635507440053,
          0.018202177391463095,
          0.017697473045979267,
          0.017192796553910313,
          0.016689402932160934,
          0.01618852098378428,
          0.015691346492284364,
          0.015199035804514779,
          0.014712699843867277,
          0.014233398590370403,
          0.013762136059026927,
          0.013299855802237802,
          0.012847436956628933,
          0.012405690848984517,
          0.011975358170457527,
          0.011557106722763043,
          0.011151529734772687,
          0.010759144742831548,
          0.010380393023314834,
          0.010015639561411986,
          0.009665173535979664,
          0.009329209296512982,
          0.00900788780492796,
          0.008701278511904156,
          0.008409381635056855,
          0.008132130804176841,
          0.007869396037201987,
          0.007620987009470871,
          0.0073866565781345985,
          0.007166104523363482,
          0.006958981468140673,
          0.006764892938997125,
          0.00658340353092908,
          0.006414041140975369,
          0.006256301236431758,
          0.006109651125447024,
          0.005973534199706604,
          0.0058473741210584365,
          0.005730578926200942,
          0.005622545025926469,
          0.005522661077829661,
          0.00543031171383975,
          0.005344881106360831,
          0.005265756359196176,
          0.005192330711748076,
          0.005124006547207033,
          0.005060198197553372,
          0.0050003345401693575,
          0.004943861382693115,
          0.0048902436344219384,
          0.004838967264093954,
          0.0047895410452331215,
          0.004741498091442981,
          0.0046943971850757936,
          0.004647823903600303,
          0.004601391548745003,
          0.004554741884123553,
          0.004507545687559136,
          0.004459503124736515,
          0.004410343951132965,
          0.0043598275494289825,
          0.004307742809790542,
          0.0042539078605597245,
          0.004198169657004699,
          0.004140403435868718,
          0.004080512043540771,
          0.0040184251457446255,
          0.003954098326726035,
          0.0038875120860037615,
          0.00381867074085212,
          0.0037476012427911515,
          0.0036743519164854454,
          0.003598991129580088,
          0.003521605902140098,
          0.003442300464490385,
          0.0033611947723832265
         ],
         "yaxis": "y"
        },
        {
         "legendgroup": "신용점수",
         "marker": {
          "color": "rgb(31, 119, 180)",
          "symbol": "line-ns-open"
         },
         "mode": "markers",
         "name": "신용점수",
         "showlegend": false,
         "type": "scatter",
         "x": [
          793,
          832,
          832,
          832,
          832,
          832,
          832,
          833,
          833,
          833,
          833,
          834,
          834,
          835,
          835,
          835,
          836,
          835,
          836,
          836,
          836,
          836,
          836,
          836,
          767,
          810,
          810,
          810,
          811,
          811,
          811,
          813,
          812,
          813,
          813,
          814,
          814,
          815,
          815,
          815,
          815,
          815,
          816,
          816,
          816,
          816,
          816,
          817,
          789,
          831,
          831,
          831,
          832,
          832,
          833,
          833,
          833,
          833,
          834,
          834,
          834,
          835,
          835,
          835,
          835,
          835,
          835,
          835,
          835,
          836,
          835,
          836,
          792,
          832,
          834,
          835,
          835,
          835,
          835,
          836,
          836,
          836,
          836,
          836,
          836,
          837,
          837,
          837,
          837,
          838,
          838,
          838,
          838,
          838,
          838,
          839,
          788,
          829,
          830,
          830,
          830,
          831,
          831,
          832,
          831,
          832,
          832,
          831,
          832,
          833,
          833,
          833,
          833,
          833,
          833,
          833,
          833,
          833,
          833,
          833,
          785,
          827,
          827,
          828,
          828,
          828,
          828,
          829,
          829,
          829,
          829,
          830,
          830,
          831,
          831,
          831,
          831,
          831,
          831,
          831,
          832,
          832,
          832,
          832,
          790,
          832,
          833,
          833,
          833,
          833,
          833,
          834,
          834,
          834,
          834,
          834,
          834,
          835,
          835,
          835,
          835,
          835,
          835,
          835,
          835,
          836,
          835,
          836,
          779,
          821,
          821,
          821,
          821,
          822,
          822,
          823,
          823,
          823,
          824,
          824,
          824,
          825,
          825,
          825,
          825,
          825,
          826,
          826,
          826,
          826,
          826,
          827,
          769,
          812,
          812,
          813,
          813,
          813,
          814,
          815,
          815,
          815,
          816,
          816,
          816,
          818,
          818,
          818,
          818,
          818,
          818,
          819,
          819,
          820,
          820,
          820,
          778,
          819,
          819,
          819,
          819,
          820,
          820,
          821,
          821,
          821,
          821,
          822,
          822,
          823,
          823,
          823,
          823,
          823,
          823,
          823,
          823,
          824,
          824,
          824,
          771,
          810,
          810,
          810,
          811,
          811,
          811,
          812,
          812,
          812,
          813,
          813,
          813,
          815,
          815,
          815,
          815,
          815,
          815,
          815,
          816,
          816,
          816,
          816,
          772,
          812,
          812,
          813,
          813,
          813,
          814,
          815,
          814,
          814,
          815,
          815,
          815,
          817,
          817,
          817,
          817,
          817,
          818,
          818,
          818,
          818,
          819,
          819,
          767,
          803,
          804,
          804,
          805,
          805,
          806,
          807,
          806,
          807,
          807,
          807,
          808,
          810,
          810,
          810,
          810,
          811,
          811,
          812,
          812,
          812,
          812,
          813,
          782,
          820,
          821,
          821,
          821,
          821,
          822,
          823,
          822,
          822,
          823,
          823,
          823,
          825,
          825,
          825,
          825,
          825,
          826,
          826,
          826,
          826,
          827,
          827,
          779,
          818,
          819,
          819,
          820,
          820,
          821,
          822,
          821,
          821,
          822,
          822,
          822,
          824,
          824,
          824,
          824,
          824,
          824,
          824,
          825,
          825,
          825,
          825,
          815,
          816,
          816,
          816,
          817,
          817,
          818,
          818,
          818,
          818,
          818,
          818,
          820,
          820,
          820,
          820,
          820,
          821,
          821,
          820,
          821,
          821,
          821,
          775,
          817,
          817,
          818,
          818,
          818,
          818,
          819,
          819,
          819,
          820,
          820,
          820,
          820,
          820,
          820,
          820,
          820,
          820,
          820,
          821,
          821,
          821,
          821,
          785,
          824,
          824,
          824,
          825,
          825,
          825,
          826,
          826,
          826,
          827,
          827,
          827,
          827,
          827,
          827,
          827,
          827,
          828,
          828,
          828,
          829,
          829,
          829,
          805,
          843,
          843,
          843,
          843,
          844,
          844,
          845,
          845,
          845,
          846,
          846,
          847,
          848,
          848,
          848,
          848,
          848,
          849,
          849,
          849,
          850,
          850,
          850,
          779,
          795,
          799,
          790,
          788,
          793,
          781,
          795,
          784,
          791,
          781
         ],
         "xaxis": "x",
         "y": [
          "신용점수",
          "신용점수",
          "신용점수",
          "신용점수",
          "신용점수",
          "신용점수",
          "신용점수",
          "신용점수",
          "신용점수",
          "신용점수",
          "신용점수",
          "신용점수",
          "신용점수",
          "신용점수",
          "신용점수",
          "신용점수",
          "신용점수",
          "신용점수",
          "신용점수",
          "신용점수",
          "신용점수",
          "신용점수",
          "신용점수",
          "신용점수",
          "신용점수",
          "신용점수",
          "신용점수",
          "신용점수",
          "신용점수",
          "신용점수",
          "신용점수",
          "신용점수",
          "신용점수",
          "신용점수",
          "신용점수",
          "신용점수",
          "신용점수",
          "신용점수",
          "신용점수",
          "신용점수",
          "신용점수",
          "신용점수",
          "신용점수",
          "신용점수",
          "신용점수",
          "신용점수",
          "신용점수",
          "신용점수",
          "신용점수",
          "신용점수",
          "신용점수",
          "신용점수",
          "신용점수",
          "신용점수",
          "신용점수",
          "신용점수",
          "신용점수",
          "신용점수",
          "신용점수",
          "신용점수",
          "신용점수",
          "신용점수",
          "신용점수",
          "신용점수",
          "신용점수",
          "신용점수",
          "신용점수",
          "신용점수",
          "신용점수",
          "신용점수",
          "신용점수",
          "신용점수",
          "신용점수",
          "신용점수",
          "신용점수",
          "신용점수",
          "신용점수",
          "신용점수",
          "신용점수",
          "신용점수",
          "신용점수",
          "신용점수",
          "신용점수",
          "신용점수",
          "신용점수",
          "신용점수",
          "신용점수",
          "신용점수",
          "신용점수",
          "신용점수",
          "신용점수",
          "신용점수",
          "신용점수",
          "신용점수",
          "신용점수",
          "신용점수",
          "신용점수",
          "신용점수",
          "신용점수",
          "신용점수",
          "신용점수",
          "신용점수",
          "신용점수",
          "신용점수",
          "신용점수",
          "신용점수",
          "신용점수",
          "신용점수",
          "신용점수",
          "신용점수",
          "신용점수",
          "신용점수",
          "신용점수",
          "신용점수",
          "신용점수",
          "신용점수",
          "신용점수",
          "신용점수",
          "신용점수",
          "신용점수",
          "신용점수",
          "신용점수",
          "신용점수",
          "신용점수",
          "신용점수",
          "신용점수",
          "신용점수",
          "신용점수",
          "신용점수",
          "신용점수",
          "신용점수",
          "신용점수",
          "신용점수",
          "신용점수",
          "신용점수",
          "신용점수",
          "신용점수",
          "신용점수",
          "신용점수",
          "신용점수",
          "신용점수",
          "신용점수",
          "신용점수",
          "신용점수",
          "신용점수",
          "신용점수",
          "신용점수",
          "신용점수",
          "신용점수",
          "신용점수",
          "신용점수",
          "신용점수",
          "신용점수",
          "신용점수",
          "신용점수",
          "신용점수",
          "신용점수",
          "신용점수",
          "신용점수",
          "신용점수",
          "신용점수",
          "신용점수",
          "신용점수",
          "신용점수",
          "신용점수",
          "신용점수",
          "신용점수",
          "신용점수",
          "신용점수",
          "신용점수",
          "신용점수",
          "신용점수",
          "신용점수",
          "신용점수",
          "신용점수",
          "신용점수",
          "신용점수",
          "신용점수",
          "신용점수",
          "신용점수",
          "신용점수",
          "신용점수",
          "신용점수",
          "신용점수",
          "신용점수",
          "신용점수",
          "신용점수",
          "신용점수",
          "신용점수",
          "신용점수",
          "신용점수",
          "신용점수",
          "신용점수",
          "신용점수",
          "신용점수",
          "신용점수",
          "신용점수",
          "신용점수",
          "신용점수",
          "신용점수",
          "신용점수",
          "신용점수",
          "신용점수",
          "신용점수",
          "신용점수",
          "신용점수",
          "신용점수",
          "신용점수",
          "신용점수",
          "신용점수",
          "신용점수",
          "신용점수",
          "신용점수",
          "신용점수",
          "신용점수",
          "신용점수",
          "신용점수",
          "신용점수",
          "신용점수",
          "신용점수",
          "신용점수",
          "신용점수",
          "신용점수",
          "신용점수",
          "신용점수",
          "신용점수",
          "신용점수",
          "신용점수",
          "신용점수",
          "신용점수",
          "신용점수",
          "신용점수",
          "신용점수",
          "신용점수",
          "신용점수",
          "신용점수",
          "신용점수",
          "신용점수",
          "신용점수",
          "신용점수",
          "신용점수",
          "신용점수",
          "신용점수",
          "신용점수",
          "신용점수",
          "신용점수",
          "신용점수",
          "신용점수",
          "신용점수",
          "신용점수",
          "신용점수",
          "신용점수",
          "신용점수",
          "신용점수",
          "신용점수",
          "신용점수",
          "신용점수",
          "신용점수",
          "신용점수",
          "신용점수",
          "신용점수",
          "신용점수",
          "신용점수",
          "신용점수",
          "신용점수",
          "신용점수",
          "신용점수",
          "신용점수",
          "신용점수",
          "신용점수",
          "신용점수",
          "신용점수",
          "신용점수",
          "신용점수",
          "신용점수",
          "신용점수",
          "신용점수",
          "신용점수",
          "신용점수",
          "신용점수",
          "신용점수",
          "신용점수",
          "신용점수",
          "신용점수",
          "신용점수",
          "신용점수",
          "신용점수",
          "신용점수",
          "신용점수",
          "신용점수",
          "신용점수",
          "신용점수",
          "신용점수",
          "신용점수",
          "신용점수",
          "신용점수",
          "신용점수",
          "신용점수",
          "신용점수",
          "신용점수",
          "신용점수",
          "신용점수",
          "신용점수",
          "신용점수",
          "신용점수",
          "신용점수",
          "신용점수",
          "신용점수",
          "신용점수",
          "신용점수",
          "신용점수",
          "신용점수",
          "신용점수",
          "신용점수",
          "신용점수",
          "신용점수",
          "신용점수",
          "신용점수",
          "신용점수",
          "신용점수",
          "신용점수",
          "신용점수",
          "신용점수",
          "신용점수",
          "신용점수",
          "신용점수",
          "신용점수",
          "신용점수",
          "신용점수",
          "신용점수",
          "신용점수",
          "신용점수",
          "신용점수",
          "신용점수",
          "신용점수",
          "신용점수",
          "신용점수",
          "신용점수",
          "신용점수",
          "신용점수",
          "신용점수",
          "신용점수",
          "신용점수",
          "신용점수",
          "신용점수",
          "신용점수",
          "신용점수",
          "신용점수",
          "신용점수",
          "신용점수",
          "신용점수",
          "신용점수",
          "신용점수",
          "신용점수",
          "신용점수",
          "신용점수",
          "신용점수",
          "신용점수",
          "신용점수",
          "신용점수",
          "신용점수",
          "신용점수",
          "신용점수",
          "신용점수",
          "신용점수",
          "신용점수",
          "신용점수",
          "신용점수",
          "신용점수",
          "신용점수",
          "신용점수",
          "신용점수",
          "신용점수",
          "신용점수",
          "신용점수",
          "신용점수",
          "신용점수",
          "신용점수",
          "신용점수",
          "신용점수",
          "신용점수",
          "신용점수",
          "신용점수",
          "신용점수",
          "신용점수",
          "신용점수",
          "신용점수",
          "신용점수",
          "신용점수",
          "신용점수",
          "신용점수",
          "신용점수",
          "신용점수",
          "신용점수",
          "신용점수",
          "신용점수",
          "신용점수",
          "신용점수",
          "신용점수",
          "신용점수",
          "신용점수",
          "신용점수",
          "신용점수",
          "신용점수",
          "신용점수",
          "신용점수",
          "신용점수",
          "신용점수",
          "신용점수",
          "신용점수",
          "신용점수",
          "신용점수",
          "신용점수",
          "신용점수",
          "신용점수",
          "신용점수",
          "신용점수",
          "신용점수",
          "신용점수",
          "신용점수",
          "신용점수",
          "신용점수",
          "신용점수",
          "신용점수",
          "신용점수",
          "신용점수",
          "신용점수",
          "신용점수",
          "신용점수",
          "신용점수",
          "신용점수",
          "신용점수",
          "신용점수",
          "신용점수",
          "신용점수",
          "신용점수",
          "신용점수",
          "신용점수",
          "신용점수",
          "신용점수",
          "신용점수",
          "신용점수",
          "신용점수",
          "신용점수",
          "신용점수",
          "신용점수",
          "신용점수",
          "신용점수",
          "신용점수",
          "신용점수",
          "신용점수",
          "신용점수",
          "신용점수",
          "신용점수",
          "신용점수",
          "신용점수",
          "신용점수",
          "신용점수",
          "신용점수",
          "신용점수",
          "신용점수",
          "신용점수",
          "신용점수",
          "신용점수",
          "신용점수",
          "신용점수"
         ],
         "yaxis": "y2"
        }
       ],
       "layout": {
        "annotations": [
         {
          "arrowcolor": "crimson",
          "arrowwidth": 2,
          "ax": 0,
          "ay": -150,
          "borderpad": 5,
          "text": "나의 신용점수",
          "x": 903,
          "y": 0
         }
        ],
        "barmode": "overlay",
        "hovermode": "closest",
        "legend": {
         "traceorder": "reversed"
        },
        "template": {
         "data": {
          "bar": [
           {
            "error_x": {
             "color": "#2a3f5f"
            },
            "error_y": {
             "color": "#2a3f5f"
            },
            "marker": {
             "line": {
              "color": "#E5ECF6",
              "width": 0.5
             },
             "pattern": {
              "fillmode": "overlay",
              "size": 10,
              "solidity": 0.2
             }
            },
            "type": "bar"
           }
          ],
          "barpolar": [
           {
            "marker": {
             "line": {
              "color": "#E5ECF6",
              "width": 0.5
             },
             "pattern": {
              "fillmode": "overlay",
              "size": 10,
              "solidity": 0.2
             }
            },
            "type": "barpolar"
           }
          ],
          "carpet": [
           {
            "aaxis": {
             "endlinecolor": "#2a3f5f",
             "gridcolor": "white",
             "linecolor": "white",
             "minorgridcolor": "white",
             "startlinecolor": "#2a3f5f"
            },
            "baxis": {
             "endlinecolor": "#2a3f5f",
             "gridcolor": "white",
             "linecolor": "white",
             "minorgridcolor": "white",
             "startlinecolor": "#2a3f5f"
            },
            "type": "carpet"
           }
          ],
          "choropleth": [
           {
            "colorbar": {
             "outlinewidth": 0,
             "ticks": ""
            },
            "type": "choropleth"
           }
          ],
          "contour": [
           {
            "colorbar": {
             "outlinewidth": 0,
             "ticks": ""
            },
            "colorscale": [
             [
              0,
              "#0d0887"
             ],
             [
              0.1111111111111111,
              "#46039f"
             ],
             [
              0.2222222222222222,
              "#7201a8"
             ],
             [
              0.3333333333333333,
              "#9c179e"
             ],
             [
              0.4444444444444444,
              "#bd3786"
             ],
             [
              0.5555555555555556,
              "#d8576b"
             ],
             [
              0.6666666666666666,
              "#ed7953"
             ],
             [
              0.7777777777777778,
              "#fb9f3a"
             ],
             [
              0.8888888888888888,
              "#fdca26"
             ],
             [
              1,
              "#f0f921"
             ]
            ],
            "type": "contour"
           }
          ],
          "contourcarpet": [
           {
            "colorbar": {
             "outlinewidth": 0,
             "ticks": ""
            },
            "type": "contourcarpet"
           }
          ],
          "heatmap": [
           {
            "colorbar": {
             "outlinewidth": 0,
             "ticks": ""
            },
            "colorscale": [
             [
              0,
              "#0d0887"
             ],
             [
              0.1111111111111111,
              "#46039f"
             ],
             [
              0.2222222222222222,
              "#7201a8"
             ],
             [
              0.3333333333333333,
              "#9c179e"
             ],
             [
              0.4444444444444444,
              "#bd3786"
             ],
             [
              0.5555555555555556,
              "#d8576b"
             ],
             [
              0.6666666666666666,
              "#ed7953"
             ],
             [
              0.7777777777777778,
              "#fb9f3a"
             ],
             [
              0.8888888888888888,
              "#fdca26"
             ],
             [
              1,
              "#f0f921"
             ]
            ],
            "type": "heatmap"
           }
          ],
          "heatmapgl": [
           {
            "colorbar": {
             "outlinewidth": 0,
             "ticks": ""
            },
            "colorscale": [
             [
              0,
              "#0d0887"
             ],
             [
              0.1111111111111111,
              "#46039f"
             ],
             [
              0.2222222222222222,
              "#7201a8"
             ],
             [
              0.3333333333333333,
              "#9c179e"
             ],
             [
              0.4444444444444444,
              "#bd3786"
             ],
             [
              0.5555555555555556,
              "#d8576b"
             ],
             [
              0.6666666666666666,
              "#ed7953"
             ],
             [
              0.7777777777777778,
              "#fb9f3a"
             ],
             [
              0.8888888888888888,
              "#fdca26"
             ],
             [
              1,
              "#f0f921"
             ]
            ],
            "type": "heatmapgl"
           }
          ],
          "histogram": [
           {
            "marker": {
             "pattern": {
              "fillmode": "overlay",
              "size": 10,
              "solidity": 0.2
             }
            },
            "type": "histogram"
           }
          ],
          "histogram2d": [
           {
            "colorbar": {
             "outlinewidth": 0,
             "ticks": ""
            },
            "colorscale": [
             [
              0,
              "#0d0887"
             ],
             [
              0.1111111111111111,
              "#46039f"
             ],
             [
              0.2222222222222222,
              "#7201a8"
             ],
             [
              0.3333333333333333,
              "#9c179e"
             ],
             [
              0.4444444444444444,
              "#bd3786"
             ],
             [
              0.5555555555555556,
              "#d8576b"
             ],
             [
              0.6666666666666666,
              "#ed7953"
             ],
             [
              0.7777777777777778,
              "#fb9f3a"
             ],
             [
              0.8888888888888888,
              "#fdca26"
             ],
             [
              1,
              "#f0f921"
             ]
            ],
            "type": "histogram2d"
           }
          ],
          "histogram2dcontour": [
           {
            "colorbar": {
             "outlinewidth": 0,
             "ticks": ""
            },
            "colorscale": [
             [
              0,
              "#0d0887"
             ],
             [
              0.1111111111111111,
              "#46039f"
             ],
             [
              0.2222222222222222,
              "#7201a8"
             ],
             [
              0.3333333333333333,
              "#9c179e"
             ],
             [
              0.4444444444444444,
              "#bd3786"
             ],
             [
              0.5555555555555556,
              "#d8576b"
             ],
             [
              0.6666666666666666,
              "#ed7953"
             ],
             [
              0.7777777777777778,
              "#fb9f3a"
             ],
             [
              0.8888888888888888,
              "#fdca26"
             ],
             [
              1,
              "#f0f921"
             ]
            ],
            "type": "histogram2dcontour"
           }
          ],
          "mesh3d": [
           {
            "colorbar": {
             "outlinewidth": 0,
             "ticks": ""
            },
            "type": "mesh3d"
           }
          ],
          "parcoords": [
           {
            "line": {
             "colorbar": {
              "outlinewidth": 0,
              "ticks": ""
             }
            },
            "type": "parcoords"
           }
          ],
          "pie": [
           {
            "automargin": true,
            "type": "pie"
           }
          ],
          "scatter": [
           {
            "fillpattern": {
             "fillmode": "overlay",
             "size": 10,
             "solidity": 0.2
            },
            "type": "scatter"
           }
          ],
          "scatter3d": [
           {
            "line": {
             "colorbar": {
              "outlinewidth": 0,
              "ticks": ""
             }
            },
            "marker": {
             "colorbar": {
              "outlinewidth": 0,
              "ticks": ""
             }
            },
            "type": "scatter3d"
           }
          ],
          "scattercarpet": [
           {
            "marker": {
             "colorbar": {
              "outlinewidth": 0,
              "ticks": ""
             }
            },
            "type": "scattercarpet"
           }
          ],
          "scattergeo": [
           {
            "marker": {
             "colorbar": {
              "outlinewidth": 0,
              "ticks": ""
             }
            },
            "type": "scattergeo"
           }
          ],
          "scattergl": [
           {
            "marker": {
             "colorbar": {
              "outlinewidth": 0,
              "ticks": ""
             }
            },
            "type": "scattergl"
           }
          ],
          "scattermapbox": [
           {
            "marker": {
             "colorbar": {
              "outlinewidth": 0,
              "ticks": ""
             }
            },
            "type": "scattermapbox"
           }
          ],
          "scatterpolar": [
           {
            "marker": {
             "colorbar": {
              "outlinewidth": 0,
              "ticks": ""
             }
            },
            "type": "scatterpolar"
           }
          ],
          "scatterpolargl": [
           {
            "marker": {
             "colorbar": {
              "outlinewidth": 0,
              "ticks": ""
             }
            },
            "type": "scatterpolargl"
           }
          ],
          "scatterternary": [
           {
            "marker": {
             "colorbar": {
              "outlinewidth": 0,
              "ticks": ""
             }
            },
            "type": "scatterternary"
           }
          ],
          "surface": [
           {
            "colorbar": {
             "outlinewidth": 0,
             "ticks": ""
            },
            "colorscale": [
             [
              0,
              "#0d0887"
             ],
             [
              0.1111111111111111,
              "#46039f"
             ],
             [
              0.2222222222222222,
              "#7201a8"
             ],
             [
              0.3333333333333333,
              "#9c179e"
             ],
             [
              0.4444444444444444,
              "#bd3786"
             ],
             [
              0.5555555555555556,
              "#d8576b"
             ],
             [
              0.6666666666666666,
              "#ed7953"
             ],
             [
              0.7777777777777778,
              "#fb9f3a"
             ],
             [
              0.8888888888888888,
              "#fdca26"
             ],
             [
              1,
              "#f0f921"
             ]
            ],
            "type": "surface"
           }
          ],
          "table": [
           {
            "cells": {
             "fill": {
              "color": "#EBF0F8"
             },
             "line": {
              "color": "white"
             }
            },
            "header": {
             "fill": {
              "color": "#C8D4E3"
             },
             "line": {
              "color": "white"
             }
            },
            "type": "table"
           }
          ]
         },
         "layout": {
          "annotationdefaults": {
           "arrowcolor": "#2a3f5f",
           "arrowhead": 0,
           "arrowwidth": 1
          },
          "autotypenumbers": "strict",
          "coloraxis": {
           "colorbar": {
            "outlinewidth": 0,
            "ticks": ""
           }
          },
          "colorscale": {
           "diverging": [
            [
             0,
             "#8e0152"
            ],
            [
             0.1,
             "#c51b7d"
            ],
            [
             0.2,
             "#de77ae"
            ],
            [
             0.3,
             "#f1b6da"
            ],
            [
             0.4,
             "#fde0ef"
            ],
            [
             0.5,
             "#f7f7f7"
            ],
            [
             0.6,
             "#e6f5d0"
            ],
            [
             0.7,
             "#b8e186"
            ],
            [
             0.8,
             "#7fbc41"
            ],
            [
             0.9,
             "#4d9221"
            ],
            [
             1,
             "#276419"
            ]
           ],
           "sequential": [
            [
             0,
             "#0d0887"
            ],
            [
             0.1111111111111111,
             "#46039f"
            ],
            [
             0.2222222222222222,
             "#7201a8"
            ],
            [
             0.3333333333333333,
             "#9c179e"
            ],
            [
             0.4444444444444444,
             "#bd3786"
            ],
            [
             0.5555555555555556,
             "#d8576b"
            ],
            [
             0.6666666666666666,
             "#ed7953"
            ],
            [
             0.7777777777777778,
             "#fb9f3a"
            ],
            [
             0.8888888888888888,
             "#fdca26"
            ],
            [
             1,
             "#f0f921"
            ]
           ],
           "sequentialminus": [
            [
             0,
             "#0d0887"
            ],
            [
             0.1111111111111111,
             "#46039f"
            ],
            [
             0.2222222222222222,
             "#7201a8"
            ],
            [
             0.3333333333333333,
             "#9c179e"
            ],
            [
             0.4444444444444444,
             "#bd3786"
            ],
            [
             0.5555555555555556,
             "#d8576b"
            ],
            [
             0.6666666666666666,
             "#ed7953"
            ],
            [
             0.7777777777777778,
             "#fb9f3a"
            ],
            [
             0.8888888888888888,
             "#fdca26"
            ],
            [
             1,
             "#f0f921"
            ]
           ]
          },
          "colorway": [
           "#636efa",
           "#EF553B",
           "#00cc96",
           "#ab63fa",
           "#FFA15A",
           "#19d3f3",
           "#FF6692",
           "#B6E880",
           "#FF97FF",
           "#FECB52"
          ],
          "font": {
           "color": "#2a3f5f"
          },
          "geo": {
           "bgcolor": "white",
           "lakecolor": "white",
           "landcolor": "#E5ECF6",
           "showlakes": true,
           "showland": true,
           "subunitcolor": "white"
          },
          "hoverlabel": {
           "align": "left"
          },
          "hovermode": "closest",
          "mapbox": {
           "style": "light"
          },
          "paper_bgcolor": "white",
          "plot_bgcolor": "#E5ECF6",
          "polar": {
           "angularaxis": {
            "gridcolor": "white",
            "linecolor": "white",
            "ticks": ""
           },
           "bgcolor": "#E5ECF6",
           "radialaxis": {
            "gridcolor": "white",
            "linecolor": "white",
            "ticks": ""
           }
          },
          "scene": {
           "xaxis": {
            "backgroundcolor": "#E5ECF6",
            "gridcolor": "white",
            "gridwidth": 2,
            "linecolor": "white",
            "showbackground": true,
            "ticks": "",
            "zerolinecolor": "white"
           },
           "yaxis": {
            "backgroundcolor": "#E5ECF6",
            "gridcolor": "white",
            "gridwidth": 2,
            "linecolor": "white",
            "showbackground": true,
            "ticks": "",
            "zerolinecolor": "white"
           },
           "zaxis": {
            "backgroundcolor": "#E5ECF6",
            "gridcolor": "white",
            "gridwidth": 2,
            "linecolor": "white",
            "showbackground": true,
            "ticks": "",
            "zerolinecolor": "white"
           }
          },
          "shapedefaults": {
           "line": {
            "color": "#2a3f5f"
           }
          },
          "ternary": {
           "aaxis": {
            "gridcolor": "white",
            "linecolor": "white",
            "ticks": ""
           },
           "baxis": {
            "gridcolor": "white",
            "linecolor": "white",
            "ticks": ""
           },
           "bgcolor": "#E5ECF6",
           "caxis": {
            "gridcolor": "white",
            "linecolor": "white",
            "ticks": ""
           }
          },
          "title": {
           "x": 0.05
          },
          "xaxis": {
           "automargin": true,
           "gridcolor": "white",
           "linecolor": "white",
           "ticks": "",
           "title": {
            "standoff": 15
           },
           "zerolinecolor": "white",
           "zerolinewidth": 2
          },
          "yaxis": {
           "automargin": true,
           "gridcolor": "white",
           "linecolor": "white",
           "ticks": "",
           "title": {
            "standoff": 15
           },
           "zerolinecolor": "white",
           "zerolinewidth": 2
          }
         }
        },
        "title": {
         "text": "신용점수 분포"
        },
        "xaxis": {
         "anchor": "y2",
         "domain": [
          0,
          1
         ],
         "zeroline": false
        },
        "yaxis": {
         "anchor": "free",
         "domain": [
          0.35,
          1
         ],
         "position": 0
        },
        "yaxis2": {
         "anchor": "x",
         "domain": [
          0,
          0.25
         ],
         "dtick": 1,
         "showticklabels": false
        }
       }
      }
     },
     "metadata": {},
     "output_type": "display_data"
    }
   ],
   "source": [
    "test.credit_score_dist()"
   ]
  },
  {
   "cell_type": "code",
   "execution_count": null,
   "metadata": {},
   "outputs": [],
   "source": []
  }
 ],
 "metadata": {
  "interpreter": {
   "hash": "cb5285e2cda14a4805400a189e0eabfa02913f397385f5c221a1fc076b50ea98"
  },
  "kernelspec": {
   "display_name": "Python 3.7.13 ('base')",
   "language": "python",
   "name": "python3"
  },
  "language_info": {
   "codemirror_mode": {
    "name": "ipython",
    "version": 3
   },
   "file_extension": ".py",
   "mimetype": "text/x-python",
   "name": "python",
   "nbconvert_exporter": "python",
   "pygments_lexer": "ipython3",
   "version": "3.7.12"
  },
  "orig_nbformat": 4
 },
 "nbformat": 4,
 "nbformat_minor": 2
}
